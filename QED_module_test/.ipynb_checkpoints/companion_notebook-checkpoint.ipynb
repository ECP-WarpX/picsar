{
 "cells": [
  {
   "cell_type": "markdown",
   "metadata": {},
   "source": [
    "# Non-linear Breit-Wheeler pair creation\n",
    "\n",
    "The pair production rate can be written as follows:\n",
    "\n",
    "$$ \n",
    "\\frac{d^2N_{BW}}{d\\chi_\\pm dt} =  \\frac{\\alpha_f m_e^2 c^4}{\\pi \\sqrt{3} \\hbar \\epsilon_\\gamma \\chi_\\gamma} \n",
    "\\int_x^{+\\infty} \\sqrt{s} K_{1/3}\\left({\\frac{2}{3} s^{3/2}}\\right) ds - \\left({ 2 - \\chi_\\gamma^{3/2} }\\right) K_{2/3} \\left({\\frac{2}{3} x^{3/2}}\\right) \n",
    "$$\n",
    "\n",
    "where $x = \\left( \\chi_\\gamma / (\\chi_- \\chi_+) \\right)^{2/3}$.\n",
    "\n",
    "When I ask sympy to peform the integral, it remains stuck forever..."
   ]
  },
  {
   "cell_type": "code",
   "execution_count": 1,
   "metadata": {},
   "outputs": [],
   "source": [
    "from sympy import *\n",
    "s = Symbol('s')\n",
    "func = besselk(1/3, 2/3 * s**(3/2))*sqrt(s)\n",
    "#print(integrate(func, s))Don't do that"
   ]
  },
  {
   "cell_type": "markdown",
   "metadata": {},
   "source": [
    "However Wolfram Alpha provides an explicit form for the solution:\n",
    "\n",
    "$$ \n",
    "\\int \\sqrt{s} K_{1/3}\\left({\\frac{2}{3} s^{3/2}}\\right) ds = \\\\\n",
    "\\frac{\n",
    "3^{5/6} \\pi ~ s ~ \\Gamma\\left({\\frac{1}{3}}\\right) \\Gamma\\left({\\frac{5}{3}}\\right) \n",
    "\\phantom{f}_1F_2\\left({ \\frac{1}{3}; \\frac{2}{3}, \\frac{4}{3}; \\frac{s^3}{9}}\\right)\n",
    "-\n",
    "3^{1/6} \\pi ~ s^2 ~ \\Gamma\\left({\\frac{2}{3}}\\right)^2 \n",
    "\\phantom{f}_1F_2\\left({ \\frac{2}{3}; \\frac{4}{3}, \\frac{5}{3}; \\frac{s^3}{9}}\\right)\n",
    "}\n",
    "{9 \\Gamma\\left({\\frac{2}{3}}\\right) \\Gamma\\left({\\frac{4}{3}}\\right) \\Gamma\\left({\\frac{5}{3}}\\right)}\n",
    "$$\n",
    "\n",
    "If we find a good open source implementation of generalized hypergeometric functions, we could exploit this in the code."
   ]
  },
  {
   "cell_type": "markdown",
   "metadata": {},
   "source": [
    "Anyway, this notebook contains implementations of the pair production rate functions, in order to perform quick test of the library. Let's start with some useful definitions (for code units we use same normalization as smilei):"
   ]
  },
  {
   "cell_type": "code",
   "execution_count": 231,
   "metadata": {},
   "outputs": [
    {
     "name": "stdout",
     "output_type": "stream",
     "text": [
      "Schiwinger field in SI units is: 1.3232854660718482e+18\n",
      "Schiwinger field in code units is: 329718.7590461917\n",
      "Conv. factors for prod. rate from code units to SI: 2354564459136066.5\n",
      "Conv. factors for prod. rate from SI to code units: 4.247069967100916e-16\n",
      "Field reference PIC: 4.013376e+12\n"
     ]
    }
   ],
   "source": [
    "import math as m\n",
    "import numpy as np\n",
    "\n",
    "electron_mass = 9.10938356e-31\n",
    "elementary_charge = 1.6021766208e-19\n",
    "speed_of_light = 299792458\n",
    "reduced_plank = 1.054571800e-34\n",
    "vacuum_permittivity =  8.854187817e-12\n",
    "fine_structure_constant =  0.0072973525664\n",
    "\n",
    "lambda_laser = 0.8e-6\n",
    "\n",
    "schwinger_field_SI = electron_mass**2 * speed_of_light**3 / (reduced_plank*elementary_charge)\n",
    "print('Schiwinger field in SI units is: ' + str(schwinger_field_SI))\n",
    "\n",
    "schwinger_field_code_units = electron_mass*speed_of_light*lambda_laser/(2.0*reduced_plank*m.pi)\n",
    "print('Schiwinger field in code units is: ' + str(schwinger_field_code_units))\n",
    "\n",
    "conversion_of_rate_from_code_to_SI = (2.0 * m.pi * speed_of_light)/lambda_laser\n",
    "print('Conv. factors for prod. rate from code units to SI: ' + str(conversion_of_rate_from_code_to_SI))\n",
    "\n",
    "conversion_of_rate_from_SI_to_code = 1.0/conversion_of_rate_from_code_to_SI\n",
    "print('Conv. factors for prod. rate from SI to code units: ' + str(conversion_of_rate_from_SI_to_code))\n",
    "\n",
    "field_reference_PIC = 2.0 * np.pi * electron_mass * speed_of_light * speed_of_light / (elementary_charge*lambda_laser)\n",
    "print('Field reference PIC: {:e}'.format(field_reference_PIC))"
   ]
  },
  {
   "cell_type": "markdown",
   "metadata": {},
   "source": [
    "Let's define the $\\chi_\\gamma $ function. We will assume that all these quantities are provided in code units (same normalization as Smilei)"
   ]
  },
  {
   "cell_type": "code",
   "execution_count": 236,
   "metadata": {},
   "outputs": [
    {
     "name": "stdout",
     "output_type": "stream",
     "text": [
      "0.347111844317\n",
      "0.315109658214\n",
      "0.200401320634\n",
      "57.2204397969\n",
      "0.000904147405336\n"
     ]
    }
   ],
   "source": [
    "def calc_chi_gamma(p, E, B):\n",
    "    gamma_phot = np.linalg.norm(p)  \n",
    "    c = p/gamma_phot  \n",
    "    loc_field = gamma_phot * np.linalg.norm( E - np.dot(c,E)*c + np.cross(c,B))     \n",
    "    return loc_field/schwinger_field_code_units\n",
    "\n",
    "#A quick tests\n",
    "a = calc_chi_gamma(np.array([83.759, 139.311, -230.553]), np.array([-166.145, -78.231, -278.856]), np.array([-279.174, -158.849, -93.826]))\n",
    "\n",
    "b = calc_chi_gamma(np.array([-201.076, -170.956, 66.094]), np.array([-201.968, -114.862, 3.580]), np.array([-195.188, 223.384, -204.352]))\n",
    "\n",
    "c = calc_chi_gamma(np.array([-219.959, 135.362, 135.086]), np.array([110.184, 272.527, 64.938]), np.array([-127.926, -21.659, -59.226]))\n",
    "\n",
    "d = calc_chi_gamma(np.array([-2314.45, -2356.30, 546.28]), np.array([1230.11, 1638.02, -2911.04]), np.array([-2203.66, 1243.79, -2830.99]))\n",
    "\n",
    "e = calc_chi_gamma(np.array([9.2627, -25.4575, -10.2246]), np.array([2.9271, 10.4293, 3.6103]), np.array([1.7439, 1.9778, 17.8799]))\n",
    "\n",
    "\n",
    "\n",
    "print(a)\n",
    "print(b)\n",
    "print(c)\n",
    "print(d)\n",
    "print(e)\n"
   ]
  },
  {
   "cell_type": "markdown",
   "metadata": {},
   "source": [
    "We now define \n",
    "\n",
    "$$\n",
    "inner(x) = \\int_x^{+\\infty} \\sqrt{s} K_{1/3}\\left({\\frac{2}{3} s^{3/2}}\\right) ds\n",
    "$$\n",
    "\n",
    "and \n",
    "\n",
    "$$\n",
    "X(\\chi_\\gamma, \\chi_-) = \\left( \\frac{\\chi_\\gamma}{\\chi_- (\\chi_\\gamma - \\chi_- )}   \\right)^{2/3}\n",
    "$$\n",
    "\n",
    "and\n",
    "\n",
    "$$\n",
    "T(\\chi_\\gamma) = \\frac{1}{\\pi \\sqrt{3} \\chi^2_\\gamma} \\int_0^{+\\infty} inner\\left({X(\\chi_\\gamma, \\chi_-)}\\right) - \\left({ 2 - \\chi_\\gamma^{3/2} }\\right) K_{2/3} \\left({\\frac{2}{3} X(\\chi_\\gamma, \\chi_-)^{3/2}}\\right) d\\chi_-\n",
    "$$"
   ]
  },
  {
   "cell_type": "code",
   "execution_count": 194,
   "metadata": {},
   "outputs": [],
   "source": [
    "import scipy.special as spe\n",
    "import scipy.integrate as integ\n",
    "\n",
    "def inner(x):\n",
    "    return integ.quad(lambda s: np.sqrt(s)*spe.kv(1./3., 2./3. * s**(3./2.)), x, np.inf)[0] \n",
    "\n",
    "inner = np.vectorize(inner)\n",
    "\n",
    "def X(chi_phot, chi_ele):\n",
    "    if (chi_phot > chi_ele):\n",
    "        return np.power(chi_phot/(chi_ele*(chi_phot-chi_ele)), 2./3.)        \n",
    "    else:\n",
    "        return 10.0e30\n",
    "\n",
    "X = np.vectorize(X)\n",
    "\n",
    "def T(chi_phot):\n",
    "    coeff = 1./(np.pi * np.sqrt(3.) * chi_phot * chi_phot)\n",
    "    return integ.quad(lambda chi_ele: \n",
    "                      coeff*(inner(X(chi_phot, chi_ele)) - \n",
    "                      (2.0 - chi_phot*np.power(X(chi_phot, chi_ele), 3./2.))*spe.kv(2./3., 2./3. *X(chi_phot, chi_ele)**(3./2.)) )\n",
    "                      , 0, chi_phot)[0] \n",
    "T = np.vectorize(T)\n",
    "    "
   ]
  },
  {
   "cell_type": "markdown",
   "metadata": {},
   "source": [
    "We can now write the total production rate as:\n",
    "\n",
    "$$\n",
    "\\frac{dN_{BW}}{dt} = \\frac{\\alpha_f m_e^2 c^4}{\\hbar \\epsilon_\\gamma} \\chi_\\gamma T(\\chi_\\gamma)\n",
    "$$\n",
    "\n",
    "we also note that $\\epsilon_\\gamma / m_e c^2$ is the  photon energy in code units.\n",
    "So we can write the following function, which gives the total production rate *in SI units* as a function of quantities *in code units*. "
   ]
  },
  {
   "cell_type": "code",
   "execution_count": 219,
   "metadata": {},
   "outputs": [
    {
     "name": "stdout",
     "output_type": "stream",
     "text": [
      "10.918396061 7.47700780427e+14 0.747700780427\n"
     ]
    }
   ],
   "source": [
    "def dNBW_dt(chi_phot, e_phot):\n",
    "    val = ((electron_mass*(speed_of_light)**2)*fine_structure_constant/reduced_plank)*(chi_phot/e_phot)*T(chi_phot)\n",
    "    return val\n",
    "\n",
    "px = 9000\n",
    "chi = calc_chi_gamma(np.array([px,0,0]),np.array([0,500,0]),np.array([0,0,0]))\n",
    "rate = dNBW_dt(calc_chi_gamma(np.array([px,0,0]),np.array([0,500,0]),np.array([0,0,0])), px)\n",
    "print(str(chi) + \" \" + str(rate) + \" \" + str(rate/1e15))"
   ]
  },
  {
   "cell_type": "code",
   "execution_count": 229,
   "metadata": {},
   "outputs": [
    {
     "data": {
      "image/png": "[encoded data removed]",
      "text/plain": [
       "<matplotlib.figure.Figure at 0x7f41d64c4908>"
      ]
     },
     "metadata": {
      "needs_background": "light"
     },
     "output_type": "display_data"
    }
   ],
   "source": [
    "px = np.logspace(-1, 8.0, num=100, base=10)\n",
    "\n",
    "def ff(px):\n",
    "    return dNBW_dt(calc_chi_gamma(np.array([px,0,0]),np.array([0,500,0]),np.array([0,0,0])), px)\n",
    "\n",
    "ff = np.vectorize(ff)\n",
    "\n",
    "def cc(px):\n",
    "    return calc_chi_gamma(np.array([px,0,0]),np.array([0,500,0]),np.array([0,0,0]))\n",
    "\n",
    "cc = np.vectorize(cc)\n",
    "\n",
    "ff(px)\n",
    "\n",
    "import matplotlib.pyplot as plt\n",
    "\n",
    "plt.loglog(cc(px), ff(px)*1e-15)\n",
    "axes = plt.gca()\n",
    "axes.set_xlim([0.1,100000])\n",
    "axes.set_ylim([0.00001,1])\n",
    "plt.show()"
   ]
  },
  {
   "cell_type": "markdown",
   "metadata": {},
   "source": [
    "# Synchrotron-like radiation emission"
   ]
  },
  {
   "cell_type": "code",
   "execution_count": 243,
   "metadata": {},
   "outputs": [
    {
     "data": {
      "text/plain": [
       "1.51644389735785"
      ]
     },
     "execution_count": 243,
     "metadata": {},
     "output_type": "execute_result"
    }
   ],
   "source": [
    "def calc_chi_elec(p, E, B):\n",
    "    gamma_elec = sqrt(1.0 + np.dot(p,p))  \n",
    "    v = p/gamma_elec  \n",
    "    evcb = E + np.cross(v,B)\n",
    "    loc_field = gamma_elec * sqrt(abs(np.dot(v,E)**2 - np.dot(evcb,evcb)))     \n",
    "    return loc_field/schwinger_field_code_units\n",
    "\n",
    "calc_chi_elec(np.array([1000, 0, 0]), np.array([0, 0, 0]), np.array([0, 0, 500]))"
   ]
  },
  {
   "cell_type": "code",
   "execution_count": null,
   "metadata": {},
   "outputs": [],
   "source": []
  },
  {
   "cell_type": "markdown",
   "metadata": {},
   "source": [
    "# Miscellanea"
   ]
  },
  {
   "cell_type": "code",
   "execution_count": 244,
   "metadata": {},
   "outputs": [
    {
     "name": "stdout",
     "output_type": "stream",
     "text": [
      "2.745e+15\n",
      "6.839e+2\n",
      "2.074e-3\n"
     ]
    },
    {
     "data": {
      "text/plain": [
       "1.01948226258744"
      ]
     },
     "execution_count": 244,
     "metadata": {},
     "output_type": "execute_result"
    }
   ],
   "source": [
    "from decimal import Decimal\n",
    "\n",
    "I = 1e24\n",
    "I_W_m2 = I * 1e4 \n",
    "E = sqrt(I_W_m2 * 2 / speed_of_light / vacuum_permittivity)\n",
    "print(\"{:6.3e}\".format(E))\n",
    "print(\"{:6.3e}\".format(E/field_reference_PIC))\n",
    "print(\"{:6.3e}\".format(E/schwinger_field_SI))\n",
    "\n",
    "B = 2500000\n",
    "E = B*speed_of_light\n",
    "calc_chi_elec(np.array([1800, 0, 0]), np.array([0, 0, 0]), np.array([0, 0, E/field_reference_PIC]))"
   ]
  },
  {
   "cell_type": "code",
   "execution_count": null,
   "metadata": {},
   "outputs": [],
   "source": [
    "a = calc_chi_elec(np.array([1800, 0, 0]), np.array([0, 0, 0]), np.array([0, 0, E/field_reference_PIC]))"
   ]
  }
 ],
 "metadata": {
  "kernelspec": {
   "display_name": "Python 3",
   "language": "python",
   "name": "python3"
  },
  "language_info": {
   "codemirror_mode": {
    "name": "ipython",
    "version": 3
   },
   "file_extension": ".py",
   "mimetype": "text/x-python",
   "name": "python",
   "nbconvert_exporter": "python",
   "pygments_lexer": "ipython3",
   "version": "3.6.7"
  }
 },
 "nbformat": 4,
 "nbformat_minor": 2
}
