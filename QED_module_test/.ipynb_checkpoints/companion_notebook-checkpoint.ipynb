{
 "cells": [
  {
   "cell_type": "markdown",
   "metadata": {},
   "source": [
    "# Non-linear Breit-Wheeler pair creation\n",
    "\n",
    "The pair production rate can be written as follows:\n",
    "\n",
    "$$ \n",
    "\\frac{d^2N_{BW}}{d\\chi_\\pm dt} =  \\frac{\\alpha_f m_e^2 c^4}{\\pi \\sqrt{3} \\hbar \\epsilon_\\gamma \\chi_\\gamma} \n",
    "\\int_x^{+\\infty} \\sqrt{s} K_{1/3}\\left({\\frac{2}{3} s^{3/2}}\\right) ds - \\left({ 2 - \\chi_\\gamma^{3/2} }\\right) K_{2/3} \\left({\\frac{2}{3} x^{3/2}}\\right) \n",
    "$$\n",
    "\n",
    "where $x = \\left( \\chi_\\gamma / (\\chi_- \\chi_+) \\right)^{2/3}$.\n",
    "\n",
    "When I ask sympy to peform the integral, it remains stuck forever..."
   ]
  },
  {
   "cell_type": "code",
   "execution_count": null,
   "metadata": {},
   "outputs": [],
   "source": [
    "from sympy import *\n",
    "s = Symbol('s')\n",
    "print(integrate(besselk(1/3, 2/3 * s**(3/2))*sqrt(s), s))"
   ]
  },
  {
   "cell_type": "markdown",
   "metadata": {},
   "source": [
    "However wolfram Alpha provides an explicit form for the solution:\n",
    "\n",
    "$$ \n",
    "\\int \\sqrt{s} K_{1/3}\\left({\\frac{2}{3} s^{3/2}}\\right) ds = \\\\\n",
    "\\frac{\n",
    "3^{5/6} \\pi ~ s ~ \\Gamma\\left({\\frac{1}{3}}\\right) \\Gamma\\left({\\frac{5}{3}}\\right) \n",
    "\\phantom{f}_1F_2\\left({ \\frac{1}{3}; \\frac{2}{3}, \\frac{4}{3}; \\frac{s^3}{9}}\\right)\n",
    "-\n",
    "3^{1/6} \\pi ~ s^2 ~ \\Gamma\\left({\\frac{2}{3}}\\right)^2 \n",
    "\\phantom{f}_1F_2\\left({ \\frac{2}{3}; \\frac{4}{3}, \\frac{5}{3}; \\frac{s^3}{9}}\\right)\n",
    "}\n",
    "{9 \\Gamma\\left({\\frac{2}{3}}\\right) \\Gamma\\left({\\frac{4}{3}}\\right) \\Gamma\\left({\\frac{5}{3}}\\right)}\n",
    "$$\n",
    "\n",
    "If we find a good open source implementation of generalized hypergeometric functions, we could exploit this in the code."
   ]
  },
  {
   "cell_type": "code",
   "execution_count": null,
   "metadata": {},
   "outputs": [],
   "source": []
  }
 ],
 "metadata": {
  "kernelspec": {
   "display_name": "Python 3",
   "language": "python",
   "name": "python3"
  },
  "language_info": {
   "codemirror_mode": {
    "name": "ipython",
    "version": 3
   },
   "file_extension": ".py",
   "mimetype": "text/x-python",
   "name": "python",
   "nbconvert_exporter": "python",
   "pygments_lexer": "ipython3",
   "version": "3.6.7"
  }
 },
 "nbformat": 4,
 "nbformat_minor": 2
}
