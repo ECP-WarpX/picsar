{
 "cells": [
  {
   "cell_type": "markdown",
   "metadata": {},
   "source": [
    "# Physical models implemented in PICSAR-QED module"
   ]
  },
  {
   "cell_type": "code",
   "execution_count": 1,
   "metadata": {},
   "outputs": [],
   "source": [
    "import numpy as np\n",
    "import scipy.special as spe\n",
    "import scipy.integrate as integ\n",
    "import matplotlib.pyplot as plt\n",
    "\n",
    "from matplotlib import rc\n",
    "\n",
    "rc('font',**{'family':'sans-serif','sans-serif':['Helvetica']})\n",
    "rc('text', usetex=True)\n"
   ]
  },
  {
   "cell_type": "markdown",
   "metadata": {},
   "source": [
    "## Some useful physical constants (according to CODATA 2018)\n",
    "#### Warning : SI units will be used in the whole notebook"
   ]
  },
  {
   "cell_type": "code",
   "execution_count": 2,
   "metadata": {},
   "outputs": [],
   "source": [
    "# for CODATA 2018 see: https://physics.nist.gov/cuu/Constants/index.html\n",
    "\n",
    "me = 9.1093837015e-31 #electron mass\n",
    "c = 299792458 #speed of light\n",
    "hbar = 6.62607015e-34/(2*np.pi) #reduced Plank constant\n",
    "fine_structure = 7.2973525693e-3 #fine structure constant\n",
    "qe = 1.602176634e-19#elementary charge\n",
    "E_s = (me**2 * c**3)/(qe * hbar) #Schwinger E field\n",
    "B_s = E_s/c #Schwinger B field\n",
    "\n",
    "mec = me*c\n",
    "\n",
    "#This function gives the electric field (SI units) of a laser of wavelength wlg and intensity a0:\n",
    "def get_electric_field(wlg, a0):\n",
    "    return a0 * me * c**2 *2.0 *np.pi/(wlg*qe)"
   ]
  },
  {
   "cell_type": "markdown",
   "metadata": {},
   "source": [
    "#### Some quick checks (Schwinger field should be ~ 1.3e18 V/m):"
   ]
  },
  {
   "cell_type": "code",
   "execution_count": 3,
   "metadata": {},
   "outputs": [
    {
     "name": "stdout",
     "output_type": "stream",
     "text": [
      "Schwinger field : 1.323e+18 V/m\n",
      "Magnetic Schwinger field : 4.414e+09 T\n",
      "Field of a laser having λ=800nm and a0=1 : 4.013e+12 V/m\n"
     ]
    }
   ],
   "source": [
    "print(\"Schwinger field : {:6.3e} V/m\".format(E_s))\n",
    "print(\"Magnetic Schwinger field : {:6.3e} T\".format(B_s))\n",
    "print(\"Field of a laser having λ=800nm and a0=1 : {:6.3e} V/m\".format(get_electric_field(800e-9, 1)))"
   ]
  },
  {
   "cell_type": "markdown",
   "metadata": {},
   "source": [
    "## χ parameter for photons, electrons and positrons"
   ]
  },
  {
   "cell_type": "markdown",
   "metadata": {},
   "source": [
    "The quantum parameters for electrons (or positrons) χ and the quantum parameter χ\\_phot for photons are defined as in [Smilei documentation](https://smileipic.github.io/Smilei/radiation\\_loss.html):\n",
    "\n",
    "$$\n",
    "\\chi = \\frac{\\vert F_{\\mu \\nu} p^{\\nu} \\vert}{E_s m_e c} = \\frac{\\gamma}{E_s} \\sqrt{\\left({\\mathbf{E} +\\mathbf{v} \\times \\mathbf{B}}\\right)^2 - \\left({\\frac{\\mathbf{v} \\cdot\\mathbf{E}}{c}}\\right)^2}\n",
    "$$\n",
    "\n",
    "$$\n",
    "\\chi_{\\gamma} = \\frac{\\vert F_{\\mu \\nu} p^{\\nu} \\vert}{E_s m_e c} = \\frac{\\gamma_{\\gamma}}{E_s} \\sqrt{\\left({\\mathbf{E} +\\mathbf{c} \\times \\mathbf{B}}\\right)^2 - \\left({\\frac{\\mathbf{c} \\cdot\\mathbf{E}}{c}}\\right)^2}\n",
    "$$\n",
    "\n",
    "where ${\\gamma_{\\gamma}} = \\dfrac{\\vert\\mathbf{p c}\\vert}{m_e c^2}$ is a normalization of the photon energy. Note that in the ultra-relativistic limit $\\chi_\\gamma / \\chi \\sim \\gamma_\\gamma / \\gamma$.\n",
    "\n",
    "It is worth to point out that the notation is different with respect to that adopted in [KirkPPCF2009](https://doi.org/10.1088/0741-3335/51/8/085008), [DuclousPPCF2011](https://doi.org/10.1088/0741-3335/53/1/015009) and [RidgersJCP2014](https://doi.org/10.1016/j.jcp.2013.12.007), where $\\chi \\rightarrow \\eta$ and $\\chi_{\\gamma} \\rightarrow 2\\chi$"
   ]
  },
  {
   "cell_type": "code",
   "execution_count": 4,
   "metadata": {},
   "outputs": [],
   "source": [
    "# p, E, B in SI units with shape (N, 3)\n",
    "def comp_chi_phot(p, E, B):\n",
    "    gamma_phot = np.linalg.norm(p, axis=1)/mec  \n",
    "    c = p/gamma_phot[:,None]\n",
    "    cdotE = np.einsum('ij,ij->i',c,E)\n",
    "    ccrossB = np.cross(c,B)\n",
    "    loc_field = gamma_phot * np.linalg.norm( E - cdotE[:,None]*c + ccrossB, axis=1)     \n",
    "    return loc_field/E_s\n",
    "\n",
    "# p, E, B in SI units with shape (3)\n",
    "def comp_single_chi_phot(p,E,B):\n",
    "    return comp_chi_phot(p[None,:], E[None,:], B[None,:])[0]\n",
    "\n",
    "\n",
    "# p, E, B in SI units with shape (N, 3)\n",
    "def comp_chi_ele_pos(p, E, B):\n",
    "    p = p/mec\n",
    "    gamma = np.sqrt(1.0 + np.einsum('ij,ij->i',p,p))\n",
    "    b = np.einsum('ij,i->ij',p,1./gamma)\n",
    "    v = c*b\n",
    "    bdotE = np.einsum('ij,ij->i',b,E)\n",
    "    evcb = E + np.cross(v,B)\n",
    "    loc_field = gamma * np.sqrt(np.abs(bdotE**2 -  np.einsum('ij,ij->i',evcb,evcb)))\n",
    "    return loc_field/E_s\n",
    "\n",
    "# p, E, B in SI units with shape (3)\n",
    "def comp_single_chi_ele_pos(p,E,B):\n",
    "    return comp_chi_ele_pos(p[None,:], E[None,:], B[None,:])[0]"
   ]
  },
  {
   "cell_type": "markdown",
   "metadata": {},
   "source": [
    "#### Some quick tests:"
   ]
  },
  {
   "cell_type": "code",
   "execution_count": 5,
   "metadata": {},
   "outputs": [
    {
     "name": "stdout",
     "output_type": "stream",
     "text": [
      "χ_phot for px = 1.00e+00 me*c, Ey = 1.00e+00 E_s, B = 0 T -->  1.0000e+00\n",
      "χ_ele for px = 1.00e+00 me*c, Ey = 1.00e+00 E_s, B = 0 T -->  1.4142e+00\n"
     ]
    }
   ],
   "source": [
    "pp = mec\n",
    "ee = E_s\n",
    "\n",
    "chi_phot = comp_single_chi_phot(np.array([pp, 0, 0]), np.array([0, ee, 0]), np.array([0,0,0]))\n",
    "print(\"χ_phot for px = {:6.2e} me*c, Ey = {:6.2e} E_s, B = 0 T -->  {:6.4e}\".format(pp/mec, ee/E_s,chi_phot))\n",
    "\n",
    "chi_ele = comp_single_chi_ele_pos(np.array([pp, 0, 0]), np.array([0, ee, 0]), np.array([0,0,0]))\n",
    "print(\"χ_ele for px = {:6.2e} me*c, Ey = {:6.2e} E_s, B = 0 T -->  {:6.4e}\".format(pp/mec, ee/E_s, chi_ele))"
   ]
  },
  {
   "cell_type": "markdown",
   "metadata": {},
   "source": [
    "## Breit-Wheeler (BW) pair generation"
   ]
  },
  {
   "cell_type": "markdown",
   "metadata": {},
   "source": [
    "For the Breit-Wheeler pair production process, the model described in [Smilei documentation](https://smileipic.github.io/Smilei/multiphoton\\_Breit\\_Wheeler.html) is adopted. Essentially _Ritus formulae_ are used.\n",
    "\n",
    "Other useful references are:\n",
    "- [NikishovJETP1964](http://www.jetp.ac.ru/cgi-bin/dn/e_019_02_0529.pdf)\n",
    "- [ErberRevModPhys1966](https://doi.org/10.1103/RevModPhys.38.626)\n",
    "- [BaierJETP1968](http://www.jetp.ac.ru/cgi-bin/dn/e_026_04_0854.pdf)\n",
    "- [RitusPhDThesis1985](https://link.springer.com/article/10.1007/BF01120220)\n",
    "- [KirkPPCF2009](https://doi.org/10.1088/0741-3335/51/8/085008)\n",
    "- [DuclousPPCF2011](https://doi.org/10.1088/0741-3335/53/1/015009)\n",
    "- [RidgersJCP2014](https://doi.org/10.1016/j.jcp.2013.12.007)\n",
    "- [GonoskovPRE2015](https://doi.org/10.1103/PhysRevE.92.023305)\n",
    "- [LobetPhdThesis2016](https://tel.archives-ouvertes.fr/tel-01314224)\n",
    "- [LobetJPhysConf2016](https://doi.org/10.1088/1742-6596/688/1/012058)\n",
    "- [Smilei external QED lookup tables](https://smileipic.github.io/Smilei/tables.html)\n",
    "\n",
    "The following expression is used for the differential pair production cross section:\n",
    "\n",
    "$$\n",
    "\\dfrac{d^2N}{dt d\\chi_-} = \\frac{\\alpha_{f} m_e c^2}{\\pi \\sqrt{3} \\hbar \\gamma_\\gamma \\chi_\\gamma} \\int_{X(\\chi_\\gamma, \\chi_-)}^{+\\infty} \\sqrt{s} K_{1/3}\\left({\\frac{2}{3} s^{3/2}}\\right) ds - (2 - \\chi_\\gamma X^{3/2}(\\chi_\\gamma, \\chi_-)) K_{2/3}\\left({\\frac{2}{3} X^{3/2}(\\chi_\\gamma, \\chi_-)}\\right)\n",
    "$$\n",
    "where $X(\\chi_\\gamma, \\chi_-) = (\\chi_\\gamma/(\\chi_+ \\chi_-))^{2/3}$ ($\\chi_+$, the $\\chi$ parameter of the emitted positron, can be rewritten as $\\chi_+ = \\chi_\\gamma - \\chi_-$).\n",
    "\n",
    "The previous formula can be re-written as:\n",
    "\n",
    "$$\n",
    "\\dfrac{d^2N}{dt d\\chi_-} = \\frac{\\alpha_{f} m_e c^2}{\\hbar \\gamma_\\gamma} \\chi_\\gamma F(\\chi_\\gamma, \\chi_-)\n",
    "$$\n",
    "\n",
    "We can obtain the total cross section by integrating over $\\chi_-$ from $0$ up to $\\chi_\\gamma$.\n",
    "\n",
    "$$\n",
    "\\dfrac{dN}{dt} = \\frac{\\alpha_{f} m_e c^2}{\\hbar \\gamma_\\gamma} \\chi_\\gamma T(\\chi_\\gamma)\n",
    "$$\n",
    "\n",
    "where\n",
    "\n",
    "$$\n",
    " T(\\chi_\\gamma) = \\int_0^{\\chi_\\gamma} F(\\chi_\\gamma, u) du = \\int_0^{\\chi_\\gamma} \\dfrac{1}{\\pi \\sqrt{3}\\chi_\\gamma^2} \\int_{X(\\chi_\\gamma, u)}^{+\\infty} \\sqrt{s} K_{1/3}\\left({\\frac{2}{3} s^{3/2}}\\right) ds - (2 - \\chi_\\gamma X^{3/2}(\\chi_\\gamma, u)) K_{2/3}\\left({\\frac{2}{3} X^{3/2}(\\chi_\\gamma, u)}\\right) du\n",
    "$$\n",
    "\n",
    "It is noteworthy that a very good simple approximation exists for $T(\\chi_\\gamma)$ (see [ErberRevModPhys1966](https://doi.org/10.1103/RevModPhys.38.626) ):\n",
    "\n",
    "$$\n",
    " T(\\chi_\\gamma) \\quad \\sim \\quad 0.16 \\frac{K^2_{1/3}(2/(3 \\chi_\\gamma))}{\\chi_\\gamma} \\quad \\sim \\quad     \\begin{cases} \n",
    "      \\exp(-2/(3 \\chi_\\gamma)) & \\chi_\\gamma \\ll 1 \\\\\n",
    "      \\chi_\\gamma^{-1/3} & \\chi_\\gamma \\gg 1\n",
    "   \\end{cases}\n",
    "$$\n",
    "\n",
    "\n",
    "In order to determine the energies of the generated particles, it is worth to remind that we are working in the ultra-relativistic limit (i.e. the generated particles are ultra-relativistic). In this limit electrons and positrons are generated with a momentum exaclty aligned with that of the original photon. Thus, only the energy has to be determined. The ultra-relativistic limit allows writing $\\gamma_- = \\gamma_\\gamma (\\chi_- / \\chi_\\gamma)$.\n",
    "\n",
    "In order to determine the energy of the generated particles we extract $\\chi$ of the electron (or, equivalently, of the positron) using the cumulative probability distribution:\n",
    "\n",
    "$$\n",
    "P(\\chi_\\gamma, \\chi_-) = \\frac{\\int_0^{\\chi_-} F(\\chi_\\gamma, u) du }{\\int_0^{\\chi_\\gamma} F(\\chi_\\gamma, u) du}\n",
    "$$\n",
    " \n",
    "In the PICSAR QED module lookup tables for $T$ and for the cumulative probability distribution $P$ are used. The asymptotic approximation for $T$ is used when data outside the lookup table is requested."
   ]
  },
  {
   "cell_type": "code",
   "execution_count": 6,
   "metadata": {},
   "outputs": [],
   "source": [
    "#auxiliary function to calculate the inner integral in F\n",
    "@np.vectorize\n",
    "def BW_inner(x):\n",
    "    return integ.quad(lambda s: np.sqrt(s)*spe.kv(1./3., 2./3. * s**(3./2.)), x, np.inf)[0] \n",
    "\n",
    "def BW_X(chi_phot, chi_ele):\n",
    "    res = np.zeros(np.shape(chi_phot))\n",
    "    div = (chi_ele*(chi_phot-chi_ele))\n",
    "    div = np.where(np.logical_and(chi_phot > chi_ele, chi_ele != 0), div, 1.0);\n",
    "    res = np.where(np.logical_and(chi_phot > chi_ele, chi_ele != 0), np.power(chi_phot/div, 2./3.), np.inf)\n",
    "    return res\n",
    "\n",
    "def BW_F(chi_phot, chi_ele):\n",
    "    X = BW_X(chi_phot, chi_ele)\n",
    "    res = np.where(np.logical_or(chi_phot == chi_ele, chi_ele == 0), 0.0, \n",
    "         BW_inner(X) - (2.0 - chi_phot* X**(3./2.))*spe.kv(2./3., 2./3. * X**(3./2.)) )\n",
    "    return res\n",
    "\n",
    "@np.vectorize\n",
    "def BW_T(chi_phot):\n",
    "    coeff = 1./(np.pi * np.sqrt(3.) * (chi_phot**2))\n",
    "    return coeff*integ.quad(lambda chi_ele: BW_F(chi_phot, chi_ele), 0, chi_phot)[0] \n",
    "\n",
    "def BW_dN_dt(chi_phot, gamma_phot):\n",
    "    coeff_BW = fine_structure * me*c**2/hbar \n",
    "    return coeff_BW*BW_T(chi_phot)*(chi_phot/gamma_phot)\n",
    "\n",
    "def BW_d2N_dt_dchi(chi_phot, gamma_phot, chi_ele):    \n",
    "    coeff_BW = fine_structure * me*c**2/hbar \n",
    "    return coeff_BW*BW_F(chi_phot, chi_ele)*(gamma_phot/gamma_phot)\n",
    "\n",
    "@np.vectorize\n",
    "def BW_P(chi_phot, chi_ele):\n",
    "    return integ.quad(lambda u: BW_F(chi_phot, u) ,0, chi_ele)[0]/integ.quad(lambda u: BW_F(chi_phot, u) ,0, chi_phot)[0]"
   ]
  },
  {
   "cell_type": "markdown",
   "metadata": {},
   "source": [
    "We can plot the total BW cross section.\n",
    "\n",
    "This test reproduces the plot of the total cross section for a photon propagating in a region with an intense transverse electric field (see [Smilei documentation](https://smileipic.github.io/Smilei/multiphoton\\_Breit\\_Wheeler.html)):"
   ]
  },
  {
   "cell_type": "code",
   "execution_count": 7,
   "metadata": {},
   "outputs": [
    {
     "data": {
      "image/png": "[encoded data removed]",
      "text/plain": [
       "<Figure size 576x360 with 1 Axes>"
      ]
     },
     "metadata": {
      "needs_background": "light"
     },
     "output_type": "display_data"
    }
   ],
   "source": [
    "NUM_POINTS = 100\n",
    "px = np.logspace(-1, 8.0, num=NUM_POINTS, base=10)*mec\n",
    "p_phot = np.zeros([NUM_POINTS,3])\n",
    "E_field = np.zeros([NUM_POINTS,3])\n",
    "B_field = np.zeros([NUM_POINTS,3])\n",
    "p_phot[:,0] = px\n",
    "gamma_phot = np.linalg.norm(p_phot,axis=1)/mec\n",
    "E_field[:,1] = get_electric_field(1e-6, 500)\n",
    "chi_phot = comp_chi_phot(p_phot,E_field,B_field)\n",
    "\n",
    "dNBW = BW_dN_dt(chi_phot,gamma_phot)\n",
    "plt.rcParams.update({'font.size': 22})\n",
    "fig,ax=plt.subplots(1,1,figsize=(8,5))\n",
    "ax.loglog(chi_phot, dNBW*1e-15, color='lightcoral', linewidth=5)\n",
    "ax.set_xlabel('$\\chi_{\\gamma}$')\n",
    "ax.set_ylabel('$dN_{BW}/dt$ (fs$^{-1}$)')\n",
    "ax.set_title('Total pair production rate')\n",
    "ax.set_ylim(9e-6, 1)\n",
    "ax.set_xlim(1e-1,1.1e5)\n",
    "ax.set_yticks([1e-5, 1e-4, 1e-3, 1e-2, 1e-1, 1])\n",
    "ax.set_xticks([1e-1, 1e0, 1e1, 1e2, 1e3, 1e4, 1e5])\n",
    "ax.set_frame_on(False)\n",
    "ax.grid()\n",
    "plt.show()"
   ]
  },
  {
   "cell_type": "markdown",
   "metadata": {},
   "source": [
    "We can now investigate the distribution of the generated electrons (or, equivalently, of the generated positrons).\n",
    "Note that the distrubution for the case $\\chi_\\gamma = 10$ is very similar to that for $\\chi_\\gamma = 20$ in\n",
    "[Smilei documentation](https://smileipic.github.io/Smilei/multiphoton\\_Breit\\_Wheeler.html)."
   ]
  },
  {
   "cell_type": "code",
   "execution_count": 8,
   "metadata": {},
   "outputs": [
    {
     "name": "stderr",
     "output_type": "stream",
     "text": [
      "<ipython-input-6-05c6a7c72dda>:4: RuntimeWarning: invalid value encountered in double_scalars\n",
      "  return integ.quad(lambda s: np.sqrt(s)*spe.kv(1./3., 2./3. * s**(3./2.)), x, np.inf)[0]\n",
      "<ipython-input-6-05c6a7c72dda>:4: IntegrationWarning: The occurrence of roundoff error is detected, which prevents \n",
      "  the requested tolerance from being achieved.  The error may be \n",
      "  underestimated.\n",
      "  return integ.quad(lambda s: np.sqrt(s)*spe.kv(1./3., 2./3. * s**(3./2.)), x, np.inf)[0]\n",
      "/usr/lib/python3/dist-packages/numpy/lib/function_base.py:2167: RuntimeWarning: invalid value encountered in ? (vectorized)\n",
      "  outputs = ufunc(*inputs)\n",
      "<ipython-input-6-05c6a7c72dda>:16: RuntimeWarning: invalid value encountered in multiply\n",
      "  BW_inner(X) - (2.0 - chi_phot* X**(3./2.))*spe.kv(2./3., 2./3. * X**(3./2.)) )\n"
     ]
    },
    {
     "data": {
      "image/png": "[encoded data removed]",
      "text/plain": [
       "<Figure size 1008x158.4 with 6 Axes>"
      ]
     },
     "metadata": {
      "needs_background": "light"
     },
     "output_type": "display_data"
    }
   ],
   "source": [
    "NUM_frac = 100\n",
    "NUM_cases = 6\n",
    "chi_gamma = px = np.logspace(-2.0, 3.0, num=NUM_cases, base=10)\n",
    "prob = np.zeros([6,NUM_frac])\n",
    "frac = np.linspace(0, 1.0, NUM_frac)\n",
    "chi_ele = np.tensordot(chi_gamma, frac, axes=0)\n",
    "\n",
    "prob = BW_F(chi_gamma[:,None], chi_ele)\n",
    "prob_norm = prob/np.amax(prob, axis=1)[:,None]\n",
    "\n",
    "plt.rcParams.update({'font.size': 16})\n",
    "fig,ax=plt.subplots(ncols=NUM_cases,nrows=1,figsize=(14,2.2))\n",
    "fig.suptitle('$\\chi_-$ distribution for various $\\chi_{\\gamma}$', y = 1.1)\n",
    "\n",
    "for j in range(NUM_cases):\n",
    "    ax[j].plot(frac, prob_norm[j,:], linewidth=3)\n",
    "    ax[j].set_xlim([0.0,1])\n",
    "    ax[j].set_ylim([-0.05,1.05])\n",
    "    ax[j].set_xlabel('$\\chi_- / \\chi_{\\gamma}$')\n",
    "    ax[j].set_title('$\\chi_{\\gamma}$' + '= {:6.2f}'.format(chi_gamma[j]) )\n",
    "    ax[j].grid()\n",
    "    ax[j].set_frame_on(False)\n",
    "plt.tight_layout()\n",
    "plt.show()"
   ]
  },
  {
   "cell_type": "markdown",
   "metadata": {},
   "source": [
    "Same as above but with cumulative probability distributions:"
   ]
  },
  {
   "cell_type": "code",
   "execution_count": null,
   "metadata": {},
   "outputs": [
    {
     "name": "stderr",
     "output_type": "stream",
     "text": [
      "<ipython-input-6-05c6a7c72dda>:4: RuntimeWarning: invalid value encountered in double_scalars\n",
      "  return integ.quad(lambda s: np.sqrt(s)*spe.kv(1./3., 2./3. * s**(3./2.)), x, np.inf)[0]\n",
      "<ipython-input-6-05c6a7c72dda>:4: IntegrationWarning: The occurrence of roundoff error is detected, which prevents \n",
      "  the requested tolerance from being achieved.  The error may be \n",
      "  underestimated.\n",
      "  return integ.quad(lambda s: np.sqrt(s)*spe.kv(1./3., 2./3. * s**(3./2.)), x, np.inf)[0]\n",
      "/usr/lib/python3/dist-packages/numpy/lib/function_base.py:2167: RuntimeWarning: invalid value encountered in ? (vectorized)\n",
      "  outputs = ufunc(*inputs)\n",
      "<ipython-input-6-05c6a7c72dda>:16: RuntimeWarning: invalid value encountered in double_scalars\n",
      "  BW_inner(X) - (2.0 - chi_phot* X**(3./2.))*spe.kv(2./3., 2./3. * X**(3./2.)) )\n"
     ]
    }
   ],
   "source": [
    "# ****************** WARNING: running this block will require several minutes! ****************************\n",
    "NUM_frac = 40\n",
    "NUM_cases = 6\n",
    "chi_gamma = px = np.logspace(-2.0, 3.0, num=NUM_cases, base=10)\n",
    "prob = np.zeros([6,NUM_frac])\n",
    "frac = np.linspace(0, 1.0, NUM_frac)\n",
    "chi_ele = np.tensordot(chi_gamma, frac, axes=0)\n",
    "\n",
    "cum_prob = BW_P(chi_gamma[:,None], chi_ele)\n",
    "\n",
    "plt.rcParams.update({'font.size': 16})\n",
    "fig,ax=plt.subplots(ncols=NUM_cases,nrows=1,figsize=(14,2.2))\n",
    "fig.suptitle('$\\chi_-$ cumulative distribution for various $\\chi_{\\gamma}$', y = 1.1)\n",
    "\n",
    "for j in range(NUM_cases):\n",
    "    ax[j].plot(frac, cum_prob[j,:], linewidth=3)\n",
    "    ax[j].set_xlim([0.0,1])\n",
    "    ax[j].set_ylim([-0.05,1.05])\n",
    "    ax[j].set_xlabel('$\\chi_- / \\chi_{\\gamma}$')\n",
    "    ax[j].set_title('$\\chi_{\\gamma}$' + '= {:6.2f}'.format(chi_gamma[j]) )\n",
    "    ax[j].grid()\n",
    "    ax[j].set_frame_on(False)\n",
    "plt.tight_layout()\n",
    "plt.show()"
   ]
  },
  {
   "cell_type": "markdown",
   "metadata": {},
   "source": [
    "## Inverse Compton (IC) photon emission (a.k.a. Synchrotron-like radiation)"
   ]
  },
  {
   "cell_type": "markdown",
   "metadata": {},
   "source": [
    "For the photon emission process, the model described in [Smilei documentation](https://smileipic.github.io/Smilei/radiation\\_loss.html) (and also in  [RidgersJCP2014](https://doi.org/10.1016/j.jcp.2013.12.007) ) is adopted. We stress again that the notation in [RidgersJCP2014](https://doi.org/10.1016/j.jcp.2013.12.007) is different from that of the present document. Specifically: $\\chi \\rightarrow \\eta$ and $\\chi_{\\gamma} \\rightarrow 2\\chi$.\n",
    "\n",
    "The model is very similar to that used for BW pair generation.\n",
    "\n",
    "We start from an expression for the differential photon emission cross section:\n",
    "\n",
    "$$\n",
    "\\dfrac{d^2N}{dt d\\chi_\\gamma} = \\frac{2}{3}\\frac{\\alpha m_e c^2}{\\hbar}\\frac{  \\dfrac{\\sqrt{3}}{2 \\pi} (\\chi_\\gamma/\\chi) \\left[{ \\int_{Y(\\chi,\\chi_\\gamma/\\chi)}^\\infty K_{5/3}( s ) ds  + \\frac{(\\chi_\\gamma/\\chi)^2}{1-(\\chi_\\gamma/\\chi)} K_{2/3}(Y(\\chi,\\chi_\\gamma/\\chi)) }\\right]  }{\\chi_\\gamma}\n",
    "$$\n",
    "where \n",
    "$$\n",
    "Y(\\chi, \\xi) = \\dfrac{2}{3} \\dfrac{\\xi}{\\chi(1-\\xi)}\n",
    "$$\n",
    "In the following we will use $\\xi = \\chi_\\gamma/\\chi$ (obviously $\\xi$ must be $<1$).\n",
    "\n",
    "The previous formula can be re-written as:\n",
    "\n",
    "$$\n",
    "\\dfrac{d^2N}{dt d\\chi_\\gamma} = \\frac{2}{3}\\frac{\\alpha m_e c^2}{\\hbar} \\dfrac{S(\\chi, \\chi_\\gamma/\\chi)}{\\chi_\\gamma}\n",
    "$$\n",
    "\n",
    "We can obtain the total cross section by integrating over $\\chi_\\gamma$ from $0$ up to $\\chi$.\n",
    "\n",
    "$$\n",
    "\\dfrac{dN}{dt} = \\frac{2}{3}\\frac{\\alpha m_e c^2}{\\hbar} G(\\chi)\n",
    "$$\n",
    "\n",
    "where\n",
    "\n",
    "$$\n",
    " G(\\chi) = \\int_0^{\\chi} \\dfrac{S(\\chi, u/\\chi)}{u} du =  \\int_0^{1} \\dfrac{S(\\chi, \\xi)}{\\xi} d\\xi =  \\int_0^{1}{ \\dfrac{\\dfrac{\\sqrt{3}}{2 \\pi} \\xi \\left[{ \\int_{Y(\\chi,\\xi)}^\\infty K_{5/3}( s ) ds  + \\frac{\\xi^2}{1-\\xi} K_{2/3}(Y(\\chi,\\xi)) }\\right]  }{\\xi} d\\xi}\n",
    "$$\n",
    "\n",
    "\n",
    "In order to determine the energies of the generated particles, it is worth to remind that we are working in the ultra-relativistic limit (i.e. the generated particles are ultra-relativistic). In this limit photons are emitted with a momentum exaclty aligned with that of the original particle. Thus, only the energy has to be determined. The ultra-relativistic limit allows writing $\\gamma_\\gamma = \\gamma \\xi$.\n",
    "\n",
    "In order to determine the energy of the generated particles we extract $\\chi_\\gamma$ using the cumulative probability distribution:\n",
    "\n",
    "$$\n",
    "P(\\chi, \\chi_\\gamma) = \\frac{\\int_0^{\\chi_\\gamma/\\chi} S(\\chi, u) du }{\\int_0^{1} S(\\chi, u)}\n",
    "$$\n",
    " \n",
    "In the PICSAR QED module lookup tables for $G$ and for the cumulative probability distribution $P$ are used."
   ]
  },
  {
   "cell_type": "code",
   "execution_count": null,
   "metadata": {},
   "outputs": [],
   "source": [
    "#auxiliary function to calculate the inner integral in S\n",
    "@np.vectorize\n",
    "def IC_inner(y):\n",
    "    return integ.quad(lambda s: spe.kv(5./3.,s), y, np.inf)[0] \n",
    "\n",
    "@np.vectorize\n",
    "def IC_inner_alternative(y):\n",
    "    ff = lambda x : np.exp(-y*(1+(4*x**2)/3)*np.sqrt(1+x*x/3))*(9+36*x**2 + 16*x**4)/(3 + 4*x**2)/np.sqrt(1+(x**2)/3)\n",
    "    return integ.quad(ff, 0, np.inf)[0]/np.sqrt(3) \n",
    "\n",
    "def IC_Y(chi_ele, xi):\n",
    "    res = np.zeros(np.shape(chi_ele))\n",
    "    div = (chi_ele*(1-xi))\n",
    "    div = np.where(np.logical_and(xi < 1, chi_ele != 0), div, 1.0);\n",
    "    res = (2/3)*np.where(np.logical_and(xi < 1, chi_ele != 0), xi/div, np.inf)\n",
    "    return res\n",
    "\n",
    "def IC_S(chi_ele, xi):\n",
    "    Y = IC_Y(chi_ele, xi)\n",
    "    coeff = np.sqrt(3)/2.0/np.pi\n",
    "    first = IC_inner_alternative(Y)\n",
    "    div = np.where(xi == 1, 1.0, 1.0/(1-xi)  )\n",
    "    res = np.where(np.logical_or(xi == 1, xi == 0), 0.0, \n",
    "        coeff*xi*( first  + (xi**2 * spe.kv(2./3.,Y)*div )  ) )\n",
    "    return res\n",
    "\n",
    "def IC_SXI(chi_ele, xi):\n",
    "    div = np.where(xi != 0, xi, 1.0)\n",
    "    return np.where(xi != 0, IC_S(chi_ele, xi)/div, np.inf)\n",
    "\n",
    "@np.vectorize\n",
    "def IC_G(chi_ele):\n",
    "    return integ.quad(lambda xi: IC_SXI(chi_ele, xi), 0, 1)[0]\n",
    "\n",
    "def IC_dN_dt(chi_ele):\n",
    "    coeff_IC = (2./3.) * fine_structure * me*c**2/hbar \n",
    "    return coeff_IC*IC_G(chi_ele)\n",
    "\n",
    "def IC_d2N_dt_dchi(chi, chi_phot):    \n",
    "    coeff_IC = (2./3.) * fine_structure * me*c**2/hbar \n",
    "    return coeff_IC*IC_S(chi, chi_phot/chi)/chi_phot\n",
    "\n",
    "@np.vectorize\n",
    "def IC_P(chi, chi_phot):\n",
    "    div = 1.0/IC_G(chi)\n",
    "    return div*integ.quad(lambda xi: IC_S(chi, xi)/xi, 0, chi_phot/chi)[0]"
   ]
  },
  {
   "cell_type": "markdown",
   "metadata": {},
   "source": [
    "We can plot the total IC cross section."
   ]
  },
  {
   "cell_type": "code",
   "execution_count": null,
   "metadata": {},
   "outputs": [],
   "source": [
    "NUM_POINTS = 30\n",
    "px = np.logspace(-3, 6.0, num=NUM_POINTS, base=10)*mec\n",
    "p_ele = np.zeros([NUM_POINTS,3])\n",
    "E_field = np.zeros([NUM_POINTS,3])\n",
    "B_field = np.zeros([NUM_POINTS,3])\n",
    "p_ele[:,0] = -px\n",
    "gamma_ele = np.sqrt(1.0+np.sum(p_ele**2, axis=1)/mec**2)-1\n",
    "E_field[:,1] = get_electric_field(1e-6, 500)\n",
    "chi_ele = comp_chi_ele_pos(p_ele,E_field,B_field)\n",
    "\n",
    "dNIC = IC_dN_dt(chi_ele)\n",
    "\n",
    "plt.loglog(chi_ele, dNIC*1e-15, color='lightcoral', linewidth=5)\n",
    "plt.xlabel('$\\chi$')\n",
    "plt.ylabel('$dN_{IC}/dt$ [fs$^{-1}$]')\n",
    "plt.title('Total Photon production rate')\n",
    "#plt.ylim(1e-3, 1e6)\n",
    "#plt.xlim(1e-3,1e5)\n",
    "plt.box(on=False)\n",
    "plt.grid()\n",
    "plt.show()"
   ]
  },
  {
   "cell_type": "markdown",
   "metadata": {},
   "source": [
    "We can now investigate the distribution of the generated photons.\n",
    "Results for $\\chi = 0.01$ and $\\chi = 1.0$ are similar to the distributions shown in [RidgersJCP2014](https://doi.org/10.1016/j.jcp.2013.12.007), figure A.7."
   ]
  },
  {
   "cell_type": "code",
   "execution_count": null,
   "metadata": {},
   "outputs": [],
   "source": [
    "NUM_frac = 100\n",
    "NUM_cases = 6\n",
    "chi_ele = px = np.logspace(-2.0, 3.0, num=NUM_cases, base=10)\n",
    "prob = np.zeros([6,NUM_frac])\n",
    "frac = np.linspace(1e-3, 1.0, NUM_frac)\n",
    "chi_phot = np.tensordot(chi_ele, frac, axes=0)\n",
    "\n",
    "prob = IC_SXI(chi_ele[:,None], chi_phot/chi_ele[:,None])\n",
    "prob_norm = prob/np.amax(prob, axis=1)[:,None]\n",
    "\n",
    "\n",
    "\n",
    "plt.rcParams.update({'font.size': 16})\n",
    "fig,ax=plt.subplots(ncols=NUM_cases,nrows=1,figsize=(14,2.2))\n",
    "fig.suptitle('$\\chi_\\gamma$ distribution for various $\\chi$', y = 1.1)\n",
    "\n",
    "for j in range(NUM_cases):\n",
    "    ax[j].semilogy(frac, prob_norm[j,:], linewidth=3)\n",
    "    ax[j].set_xlim([0,1])\n",
    "    ax[j].set_ylim([1e-10,1.2])\n",
    "    ax[j].set_xlabel('$\\chi_\\gamma / \\chi$')\n",
    "    ax[j].set_title('$\\chi$' + '= {:6.2f}'.format(chi_ele[j]) )\n",
    "    ax[j].grid()\n",
    "    ax[j].set_frame_on(False)\n",
    "plt.tight_layout()\n",
    "plt.show()"
   ]
  },
  {
   "cell_type": "markdown",
   "metadata": {},
   "source": [
    "Plotting cumulative probability distribution takes too long!"
   ]
  },
  {
   "cell_type": "markdown",
   "metadata": {},
   "source": [
    "## Schwinger (SH) pair generation"
   ]
  },
  {
   "cell_type": "markdown",
   "metadata": {},
   "source": [
    "An expression for the Schwinger pair production rate can be found in [NarozhnyPRA2004](https://doi.org/10.1134/1.1830652) rewritten in SI units, the pair production rate per unit volume is:\n",
    "\n",
    "$$\n",
    "\\dfrac{d^2N}{dt dV} = \\dfrac{e^2 E_s^2}{4 \\pi^2 \\hbar^2 c} \\epsilon \\eta \\coth{\\left({\\dfrac{\\pi \\eta}{\\epsilon}}\\right)}\\exp{\\left({-\\dfrac{\\pi}{\\epsilon}}\\right)}\n",
    "$$\n",
    "\n",
    "where $e$ is the elementary charge, $E_s$ is the Schwinger field, $\\epsilon = \\mathcal{E}/E_s$ and $\\eta = \\mathcal{H}/E_s$. $\\mathcal{E}$ and $\\mathcal{H}$ are given by:\n",
    "\n",
    "$$\n",
    "\\mathcal{E} = \\sqrt{\\sqrt{\\mathcal{F}^2 + \\mathcal{G}^2} + \\mathcal{F}} \\\\\n",
    "\\mathcal{H} = \\sqrt{\\sqrt{\\mathcal{F}^2 + \\mathcal{G}^2} - \\mathcal{F}} \\\\\n",
    "$$\n",
    "\n",
    "$\\mathcal{F}$ and $\\mathcal{G}$ are the invariants of the electromagnetic field and are equal to:\n",
    "\n",
    "$$\n",
    "\\mathcal{F} = (\\mathbf{E}^2 - c^2 \\mathbf{B}^2)/2 \\\\\n",
    "\\mathcal{G} = c \\mathbf{E} \\cdot \\mathbf{B} \\\\\n",
    "$$ \n"
   ]
  },
  {
   "cell_type": "code",
   "execution_count": 139,
   "metadata": {},
   "outputs": [],
   "source": [
    "#E and B are in SI units and have shape (N,3)\n",
    "def SH_d2N_dtdV(E, B):\n",
    "    ff = (np.sum(E**2, axis=1) - c**2 * np.sum(B**2, axis=1))/2\n",
    "    gg = c*np.einsum('ij,ij->i',E,B)\n",
    "    tt = np.sqrt(ff**2 + gg**2)\n",
    "    epsi = np.sqrt(tt + ff)/E_s\n",
    "    eta = np.sqrt(tt - ff)/E_s\n",
    "    \n",
    "    coeff = (qe**2 * E_s**2)/(4* np.pi**2 * hbar**2 * c)\n",
    "    \n",
    "    res = np.zeros(E.shape[0])\n",
    "    \n",
    "    def f1(epsi):\n",
    "        return epsi*(epsi/np.pi)*np.exp(-np.pi/epsi)\n",
    "    \n",
    "    def f2(epsi, eta):\n",
    "        return epsi*eta *(1./np.tanh(np.pi*eta/epsi))*np.exp(-np.pi/epsi)\n",
    "    \n",
    "    i1 = np.logical_and(epsi != 0, eta == 0)\n",
    "    i2 = np.logical_and(epsi != 0, eta != 0)\n",
    "    res[i1] = coeff *f1(epsi[i1])\n",
    "    res[i2] = coeff *f2(epsi[i2],eta[i2])\n",
    "\n",
    "    return res\n",
    "\n",
    "#E and B are in SI units and have shape (3)\n",
    "def single_SH_d2N_dtdV(E,B):\n",
    "    return SH_d2N_dtdV(E[None,:], B[None,:])[0]"
   ]
  },
  {
   "cell_type": "markdown",
   "metadata": {},
   "source": [
    "We can now perform some tests, considering a case where there is only an eletric field"
   ]
  },
  {
   "cell_type": "code",
   "execution_count": 140,
   "metadata": {},
   "outputs": [
    {
     "data": {
      "image/png": "[encoded data removed]",
      "text/plain": [
       "<Figure size 576x360 with 1 Axes>"
      ]
     },
     "metadata": {
      "needs_background": "light"
     },
     "output_type": "display_data"
    }
   ],
   "source": [
    "NUM_POINTS = 100\n",
    "ex = np.logspace(-2, 2.0, num=NUM_POINTS, base=10)*E_s\n",
    "E_field = np.zeros([NUM_POINTS,3])\n",
    "B_field = np.zeros([NUM_POINTS,3])\n",
    "E_field[:,0] = ex\n",
    "\n",
    "dV= (1.0e-9)**3 # 1 nm^3\n",
    "dt = 1.0e-15 # 1fs\n",
    "\n",
    "dN = SH_d2N_dtdV(E_field,B_field)*dV*dt\n",
    "\n",
    "plt.rcParams.update({'font.size': 22})\n",
    "fig,ax=plt.subplots(1,1,figsize=(8,5))\n",
    "ax.loglog(ex/E_s, dN*qe*1e9, color='lightcoral', linewidth=5)\n",
    "ax.set_xlabel('$E/E_s$')\n",
    "ax.set_ylabel('$dN_{SH}/dVdt$ [nC/(fs nm$^{3}$)]')\n",
    "ax.set_title('Total Schwinger pair production rate')\n",
    "ax.set_xlim(1e-2,1.1e2)\n",
    "ax.set_ylim(9e-21,1e10)\n",
    "ax.set_yticks([1e-20,1e-14, 1e-8, 1e-2, 1e4, 1e10])\n",
    "ax.set_frame_on(False)\n",
    "ax.grid()\n",
    "plt.show()"
   ]
  },
  {
   "cell_type": "code",
   "execution_count": 141,
   "metadata": {},
   "outputs": [
    {
     "name": "stdout",
     "output_type": "stream",
     "text": [
      "Pair production rate at E = E_s is 751.60 nC/nm^3/fs\n"
     ]
    }
   ],
   "source": [
    "print(\"Pair production rate at E = E_s is {:6.2f} nC/nm^3/fs\".format(single_SH_d2N_dtdV(np.array([E_s,0,0]),np.array([0,0,0]))*1e-27*1.6e-10*1.0e-15))"
   ]
  },
  {
   "cell_type": "code",
   "execution_count": null,
   "metadata": {},
   "outputs": [],
   "source": []
  }
 ],
 "metadata": {
  "kernelspec": {
   "display_name": "Python 3",
   "language": "python",
   "name": "python3"
  },
  "language_info": {
   "codemirror_mode": {
    "name": "ipython",
    "version": 3
   },
   "file_extension": ".py",
   "mimetype": "text/x-python",
   "name": "python",
   "nbconvert_exporter": "python",
   "pygments_lexer": "ipython3",
   "version": "3.8.2"
  }
 },
 "nbformat": 4,
 "nbformat_minor": 4
}
