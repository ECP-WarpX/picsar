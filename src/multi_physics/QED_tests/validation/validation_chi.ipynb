{
 "cells": [
  {
   "cell_type": "markdown",
   "metadata": {},
   "source": [
    "# Chi functions"
   ]
  },
  {
   "cell_type": "code",
   "execution_count": 15,
   "metadata": {},
   "outputs": [],
   "source": [
    "import math as m\n",
    "import numpy as np\n",
    "\n",
    "electron_mass = 9.1093837015e-31\n",
    "elementary_charge = 1.602176634e-19\n",
    "speed_of_light = 299792458\n",
    "reduced_plank = 1.054571817e-34\n",
    "vacuum_permittivity =  8.8541878128e-12\n",
    "fine_structure_constant =  0.0072973525693\n",
    "schwinger_field_SI = electron_mass**2 * speed_of_light**3 / (reduced_plank*elementary_charge)\n",
    "\n",
    "me_c = electron_mass*speed_of_light\n",
    "\n",
    "classical_elec_radius = (1./4./np.pi/vacuum_permittivity)*( elementary_charge**2 / (electron_mass * speed_of_light**2))\n",
    "\n",
    "lambda_laser = 0.8e-6\n",
    "\n",
    "eref = 2.0 * np.pi * electron_mass * speed_of_light * speed_of_light / (elementary_charge*lambda_laser)\n",
    "bref = eref/speed_of_light"
   ]
  },
  {
   "cell_type": "code",
   "execution_count": 26,
   "metadata": {},
   "outputs": [],
   "source": [
    "def calc_chi_gamma(p, E, B):    \n",
    "    pnorm = np.linalg.norm(p)\n",
    "    gamma_phot = pnorm/me_c  \n",
    "    u = p/pnorm  \n",
    "    c = u*speed_of_light\n",
    "    loc_field = gamma_phot * np.linalg.norm( E - np.dot(u,E)*u + np.cross(c,B))     \n",
    "    return loc_field/schwinger_field_SI\n",
    "\n",
    "def calc_chi_elec(p, E, B):\n",
    "    gamma_elec = np.sqrt(1.0 + np.dot(p,p)/(me_c*me_c))\n",
    "    v = p/(electron_mass*gamma_elec)\n",
    "    evcb = E + np.cross(v,B)\n",
    "    b = v/speed_of_light\n",
    "    loc_field = gamma_elec * np.sqrt(np.abs(np.dot(b,E)**2 - np.dot(evcb,evcb)))\n",
    "    return loc_field/schwinger_field_SI\n"
   ]
  },
  {
   "cell_type": "code",
   "execution_count": 17,
   "metadata": {},
   "outputs": [
    {
     "name": "stdout",
     "output_type": "stream",
     "text": [
      "0.3471118445206898\n"
     ]
    }
   ],
   "source": [
    "px = 83.759*me_c\n",
    "py = 139.311*me_c\n",
    "pz = -230.553*me_c\n",
    "ex = -166.145*eref\n",
    "ey = -78.231*eref\n",
    "ez = -278.856*eref\n",
    "bx = -279.174*bref\n",
    "by = -158.849*bref\n",
    "bz = -93.826*bref\n",
    "print(calc_chi_gamma(np.array([px,py,pz]), np.array([ex,ey,ez]), np.array([bx,by,bz])))"
   ]
  },
  {
   "cell_type": "code",
   "execution_count": 18,
   "metadata": {},
   "outputs": [
    {
     "name": "stdout",
     "output_type": "stream",
     "text": [
      "0.0009041474058668584\n"
     ]
    }
   ],
   "source": [
    "px = 9.2627*me_c\n",
    "py = -25.4575*me_c\n",
    "pz = -10.2246*me_c\n",
    "ex = 2.9271*eref\n",
    "ey = 10.4293*eref\n",
    "ez = 3.6103*eref\n",
    "bx = 1.7439*bref\n",
    "by = 1.9778*bref\n",
    "bz = 17.8799*bref\n",
    "print(calc_chi_gamma(np.array([px,py,pz]), np.array([ex,ey,ez]), np.array([bx,by,bz])))"
   ]
  },
  {
   "cell_type": "code",
   "execution_count": 19,
   "metadata": {},
   "outputs": [
    {
     "name": "stdout",
     "output_type": "stream",
     "text": [
      "57.22043983047014\n"
     ]
    }
   ],
   "source": [
    "px = -2314.45*me_c\n",
    "py = -2356.30*me_c\n",
    "pz = 546.28*me_c\n",
    "ex = 1230.11*eref\n",
    "ey = 1638.02*eref\n",
    "ez = -2911.04*eref\n",
    "bx = -2203.66*bref\n",
    "by = 1243.79*bref\n",
    "bz = -2830.99*bref\n",
    "print(calc_chi_gamma(np.array([px,py,pz]), np.array([ex,ey,ez]), np.array([bx,by,bz])))"
   ]
  },
  {
   "cell_type": "code",
   "execution_count": 28,
   "metadata": {},
   "outputs": [
    {
     "name": "stdout",
     "output_type": "stream",
     "text": [
      "0.002167166273468506\n"
     ]
    }
   ],
   "source": [
    "px = 24.3752*me_c\n",
    "py = -11.5710*me_c\n",
    "pz = -10.0841*me_c\n",
    "ex = 57.185*eref\n",
    "ey = -16.6555*eref\n",
    "ez = 22.4340*eref\n",
    "bx = 6.6911*bref\n",
    "by = -23.8724*bref\n",
    "bz = 13.9934*bref\n",
    "print(calc_chi_elec(np.array([px,py,pz]), np.array([ex,ey,ez]), np.array([bx,by,bz])))"
   ]
  },
  {
   "cell_type": "code",
   "execution_count": 30,
   "metadata": {},
   "outputs": [
    {
     "name": "stdout",
     "output_type": "stream",
     "text": [
      "0.16631811297207244\n"
     ]
    }
   ],
   "source": [
    "px = 4.015*me_c\n",
    "py = 197.287*me_c\n",
    "pz = 141.705*me_c\n",
    "ex = 30.287*eref\n",
    "ey = 115.740*eref\n",
    "ez = 120.891*eref\n",
    "bx = -190.161*bref\n",
    "by = -129.115*bref\n",
    "bz = -57.002*bref\n",
    "print(calc_chi_elec(np.array([px,py,pz]), np.array([ex,ey,ez]), np.array([bx,by,bz])))"
   ]
  },
  {
   "cell_type": "code",
   "execution_count": 31,
   "metadata": {},
   "outputs": [
    {
     "name": "stdout",
     "output_type": "stream",
     "text": [
      "16.011457274095676\n"
     ]
    }
   ],
   "source": [
    "px = -2534.83*me_c\n",
    "py = 1011.54*me_c\n",
    "pz = -793.04*me_c\n",
    "ex = 741.67*eref\n",
    "ey = -2359.97*eref\n",
    "ez = 1463.50*eref\n",
    "bx = 1477.19*bref\n",
    "by = -1448.33*bref\n",
    "bz = 1953.68*bref\n",
    "print(calc_chi_elec(np.array([px,py,pz]), np.array([ex,ey,ez]), np.array([bx,by,bz])))"
   ]
  },
  {
   "cell_type": "code",
   "execution_count": null,
   "metadata": {},
   "outputs": [],
   "source": []
  }
 ],
 "metadata": {
  "kernelspec": {
   "display_name": "Python 3",
   "language": "python",
   "name": "python3"
  },
  "language_info": {
   "codemirror_mode": {
    "name": "ipython",
    "version": 3
   },
   "file_extension": ".py",
   "mimetype": "text/x-python",
   "name": "python",
   "nbconvert_exporter": "python",
   "pygments_lexer": "ipython3",
   "version": "3.7.5"
  }
 },
 "nbformat": 4,
 "nbformat_minor": 2
}
