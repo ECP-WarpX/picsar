{
 "cells": [
  {
   "cell_type": "markdown",
   "metadata": {},
   "source": [
    "# Validation of the Schwinger engine"
   ]
  },
  {
   "cell_type": "markdown",
   "metadata": {},
   "source": [
    "According to Narozhny et al. Phys. Lett. A, 330, 1-2 (2004), the Schwinger pair\n",
    "production rate per unit time per unit volume (in Gaussian units) is given by: \n",
    "$$\n",
    "R = \\dfrac{e^2 E_s^2}{4 \\pi^2 \\hbar^2 c} \\epsilon \\eta \\coth{\\left({\\dfrac{\\pi \\eta}{\\epsilon}}\\right)}\\exp{\\left({-\\dfrac{\\pi}{\\epsilon}}\\right)}\n",
    "$$\n",
    "where $e$ is the elementary charge, $E_s$ is the Schwinger field, $\\epsilon = \\mathcal{E}/E_s$ and $\\eta = \\mathcal{H}/E_s$. $\\mathcal{E}$ and $\\mathcal{H}$ are given by:\n",
    "$$\n",
    "\\mathcal{E} = \\sqrt{\\sqrt{\\mathcal{F}^2 + \\mathcal{G}^2} + \\mathcal{F}} \\\\\n",
    "\\mathcal{H} = \\sqrt{\\sqrt{\\mathcal{F}^2 + \\mathcal{G}^2} - \\mathcal{F}} \\\\\n",
    "$$\n",
    "$\\mathcal{F}$ and $\\mathcal{G}$ are the invariants of the electromagnetic field and are equal to:\n",
    "$$\n",
    "\\mathcal{F} = (\\mathbf{E}^2 - \\mathbf{H}^2)/2 \\\\\n",
    "\\mathcal{G} = \\mathbf{E} \\cdot \\mathbf{H} \\\\\n",
    "$$ \n",
    "where $\\mathbf{E}$ is the electric field and  $\\mathbf{H}$ is the magnetic field.\n",
    "The Schwinger field  $E_s$ is given by\n",
    "$$\n",
    "E_s = \\dfrac{m_e^2 c^3}{e \\hbar}\n",
    "$$\n",
    "\n",
    "### Conversion from Gaussian to SI units (see https://en.wikipedia.org/wiki/Gaussian_units)\n",
    "The formula for the Schwinger field is identical\n",
    "$$\n",
    "E_s = \\dfrac{m_e^2 c^3}{e \\hbar}\n",
    "$$\n",
    "The expression for the two invariants becomes:\n",
    "$$\n",
    "\\mathcal{F} = 4 \\pi \\epsilon_0 (\\mathbf{E}^2 - c^2 \\mathbf{B}^2)/2 \\\\\n",
    "\\mathcal{G} = 4 \\pi \\epsilon_0  c \\mathbf{E} \\cdot \\mathbf{B} \\\\\n",
    "$$ \n",
    "where $\\epsilon_0$ is the electric permittivity and $c$ is the speed of light. However, since a factor $\\sqrt{4 \\pi \\epsilon_0}$ should apper in the expression of  $\\epsilon$ and $\\eta$, we can drop the $4 \\pi \\epsilon_0$ in the expression of the electromagnetic invariants:\n",
    "$$\n",
    "\\mathcal{F} = (\\mathbf{E}^2 - c^2 \\mathbf{B}^2)/2 \\\\\n",
    "\\mathcal{G} = c \\mathbf{E} \\cdot \\mathbf{B} \\\\\n",
    "$$ \n",
    "and keep  $\\epsilon$ and $\\eta$ defined as $\\epsilon = \\mathcal{E}/E_s$ and $\\eta = \\mathcal{H}/E_s$.\n",
    "Finally, nothing changes for $\\mathcal{E}$ and $\\mathcal{H}$\n",
    "$$\n",
    "\\mathcal{E} = \\sqrt{\\sqrt{\\mathcal{F}^2 + \\mathcal{G}^2} + \\mathcal{F}} \\\\\n",
    "\\mathcal{H} = \\sqrt{\\sqrt{\\mathcal{F}^2 + \\mathcal{G}^2} - \\mathcal{F}} \\\\\n",
    "$$\n",
    "and the formula for the rate remains identical:\n",
    "$$\n",
    "R = \\dfrac{e^2 E_s^2}{4 \\pi^2 \\hbar^2 c} \\epsilon \\eta \\coth{\\left({\\dfrac{\\pi \\eta}{\\epsilon}}\\right)}\\exp{\\left({-\\dfrac{\\pi}{\\epsilon}}\\right)}\n",
    "$$\n",
    "\n",
    "### Calculation of E_s in SI units\n",
    "$E_s$ should be $\\sim 1.32 \\cdot 10^{18}$ V/m"
   ]
  },
  {
   "cell_type": "code",
   "execution_count": 1,
   "metadata": {},
   "outputs": [
    {
     "name": "stdout",
     "output_type": "stream",
     "text": [
      "1.323285474948166e+18\n"
     ]
    }
   ],
   "source": [
    "me = 9.1093837015e-31\n",
    "hbar = 1.054571817e-34\n",
    "qe = 1.602176634e-19\n",
    "c = 299792458\n",
    "\n",
    "E_s = (me**2 * c**3)/(qe * hbar)\n",
    "print(E_s)"
   ]
  },
  {
   "cell_type": "markdown",
   "metadata": {},
   "source": [
    "### Calculation of B_s in SI units (the Schwinger magnetic field)\n",
    "B_s should be $\\sim 4.41 \\cdot 10^{9}$ T"
   ]
  },
  {
   "cell_type": "code",
   "execution_count": 2,
   "metadata": {},
   "outputs": [
    {
     "name": "stdout",
     "output_type": "stream",
     "text": [
      "4414005221.399419\n"
     ]
    }
   ],
   "source": [
    "B_s = E_s / c\n",
    "print(B_s)"
   ]
  },
  {
   "cell_type": "markdown",
   "metadata": {},
   "source": [
    "### Definition of a Schwinger pair production rate function"
   ]
  },
  {
   "cell_type": "code",
   "execution_count": 3,
   "metadata": {},
   "outputs": [],
   "source": [
    "import numpy as np\n",
    "\n",
    "\n",
    "def schwinger_rate(E, B):\n",
    "    ff = (np.dot(E,E) - c**2 * np.dot(B,B))/2\n",
    "    gg = c*np.dot(E,B)\n",
    "    tt = np.sqrt(ff**2 + gg**2)\n",
    "    epsi = np.sqrt(tt + ff)/E_s\n",
    "    eta = np.sqrt(tt - ff)/E_s\n",
    "    \n",
    "    coeff = (qe**2 * E_s**2)/(4* np.pi**2 * hbar**2 * c)\n",
    "    \n",
    "    if epsi == 0.0:\n",
    "        return 0.0\n",
    "    elif eta  == 0.0 :\n",
    "        return coeff * epsi*(epsi/np.pi)*np.exp(-np.pi/epsi)\n",
    "    else :  \n",
    "        return coeff * epsi*eta *(1./np.tanh(np.pi*eta/epsi))*np.exp(-np.pi/epsi)\n",
    "\n"
   ]
  },
  {
   "cell_type": "markdown",
   "metadata": {},
   "source": [
    "### Generation of test cases"
   ]
  },
  {
   "cell_type": "code",
   "execution_count": 4,
   "metadata": {},
   "outputs": [],
   "source": [
    "volume = (1.0e-27) # one cubic nanometer\n",
    "dt = 1.0e-15 # one femtosecond\n"
   ]
  },
  {
   "cell_type": "code",
   "execution_count": 7,
   "metadata": {},
   "outputs": [
    {
     "name": "stdout",
     "output_type": "stream",
     "text": [
      "***\n",
      "[ 1.95983374e+19  4.53196740e+19 -1.53227991e+19]\n",
      "[ 1.13158072e+11 -1.85649109e+11  2.29865284e+10]\n",
      "3.4139782285140736e+17\n",
      "***\n",
      "***\n",
      "[ 4.43553420e+18 -1.48590855e+18 -4.97918545e+18]\n",
      "[1.42289566e+10 1.16929194e+10 1.23891325e+10]\n",
      "176465404215894.25\n",
      "***\n",
      "***\n",
      "[ 4.54934668e+17  3.60689055e+17 -7.40223878e+16]\n",
      "[ 2.15516897e+09 -1.24094282e+09  2.12944723e+08]\n",
      "13260564.37996268\n",
      "***\n",
      "***\n",
      "[-2.58846648e+16  6.36938729e+16 -4.05635306e+16]\n",
      "[1.88731972e+08 1.98350731e+08 6.29021957e+07]\n",
      "1.5378383291079964e-40\n",
      "***\n",
      "***\n",
      "[-5.16985258e+15  2.73508231e+15 -6.51165687e+15]\n",
      "[11147443.85927287 -9121796.02689837  4006723.35164947]\n",
      "1.4667912475172131e-204\n",
      "***\n",
      "***\n",
      "[-5.31757957e+17  2.04160390e+16  5.87459095e+16]\n",
      "[ 0. -0.  0.]\n",
      "7550696719.281356\n",
      "***\n",
      "***\n",
      "[-0.  0. -0.]\n",
      "[-7.48675644e+08 -1.21286777e+09 -8.53842514e+08]\n",
      "0.0\n",
      "***\n"
     ]
    }
   ],
   "source": [
    "def calcandprint(E,B):\n",
    "    print(\"***\")\n",
    "    print(E)\n",
    "    print(B)\n",
    "    volume = (1.0e-27) # one cubic nanometer\n",
    "    dt = 1.0e-15 # one femtosecond\n",
    "    print(schwinger_rate(E,B)*dt*volume)\n",
    "    print(\"***\")\n",
    "\n",
    "for i in range(1):\n",
    "    E = E_s * ( np.random.rand(3) - 0.5 )*100\n",
    "    B = B_s * ( np.random.rand(3) - 0.5 )*100\n",
    "    calcandprint(E,B)\n",
    "    \n",
    "for i in range(1):\n",
    "    E = E_s * ( np.random.rand(3) - 0.5 )*10\n",
    "    B = B_s * ( np.random.rand(3) - 0.5 )*10\n",
    "    calcandprint(E,B)\n",
    "    \n",
    "for i in range(1):\n",
    "    E = E_s * ( np.random.rand(3) - 0.5 )*1\n",
    "    B = B_s * ( np.random.rand(3) - 0.5 )*1\n",
    "    calcandprint(E,B)\n",
    "    \n",
    "for i in range(1):\n",
    "    E = E_s * ( np.random.rand(3) - 0.5 )*0.1\n",
    "    B = B_s * ( np.random.rand(3) - 0.5 )*0.1\n",
    "    calcandprint(E,B)\n",
    "\n",
    "for i in range(1):\n",
    "    E = E_s * ( np.random.rand(3) - 0.5 )*0.01\n",
    "    B = B_s * ( np.random.rand(3) - 0.5 )*0.01\n",
    "    calcandprint(E,B)\n",
    "    \n",
    "for i in range(1):\n",
    "    E = E_s * ( np.random.rand(3) - 0.5 )*1\n",
    "    B = B_s * ( np.random.rand(3) - 0.5 )*0.0\n",
    "    calcandprint(E,B)\n",
    "    \n",
    "for i in range(1):\n",
    "    E = E_s * ( np.random.rand(3) - 0.5 )*0.0\n",
    "    B = B_s * ( np.random.rand(3) - 0.5 )*1\n",
    "    calcandprint(E,B)"
   ]
  },
  {
   "cell_type": "code",
   "execution_count": 9,
   "metadata": {},
   "outputs": [
    {
     "name": "stdout",
     "output_type": "stream",
     "text": [
      "***\n",
      "[1.32328547e+18 0.00000000e+00 0.00000000e+00]\n",
      "[0 0 0]\n",
      "4697522734778.629\n",
      "***\n",
      "752.5431421115363\n"
     ]
    }
   ],
   "source": [
    "E = E_s * ( np.array([1,0,0]))\n",
    "B =   np.array([0,0,0])\n",
    "calcandprint(E,B)\n",
    "print((schwinger_rate(E,B)*dt*volume)*1.602e-10)"
   ]
  },
  {
   "cell_type": "code",
   "execution_count": 33,
   "metadata": {},
   "outputs": [],
   "source": [
    "dV = (1.e-9)**3 # total simulation volume\n",
    "dt = 1.0e-15\n",
    "\n",
    "def calculate_rate(Ex,Ey,Ez,Bx,By,Bz):\n",
    "## Calculate theoretical pair production rate from EM field value\n",
    "\n",
    "    E_squared = Ex**2 + Ey**2 + Ez**2\n",
    "    H_squared = c**2*(Bx**2 + By**2 + Bz**2)\n",
    "\n",
    "    F = (E_squared - H_squared)/2.\n",
    "    G = c*(Ex*Bx + Ey*By + Ez*Bz)\n",
    "\n",
    "    epsilon = np.sqrt(np.sqrt(F**2+G**2)+F)/E_s\n",
    "    eta = np.sqrt(np.sqrt(F**2+G**2)-F)/E_s\n",
    "    \n",
    "    coeff = qe**2*E_s**2/4./np.pi**2/c/hbar**2\n",
    "    print(\"DD\",epsilon, eta, coeff)\n",
    "\n",
    "    if(epsilon != 0. and eta != 0.):\n",
    "        print(\"main\", 1.0/np.tanh(np.pi*eta/epsilon)*np.exp(-np.pi/epsilon), 1.0 *(1./np.tanh(np.pi*epsilon/eta))*np.exp(-np.pi/epsilon))\n",
    "        return  coeff*epsilon*eta/np.tanh(np.pi*eta/epsilon)*np.exp(-np.pi/epsilon)\n",
    "    elif (epsilon == 0.):\n",
    "        return 0.\n",
    "    else:\n",
    "        return  coeff*epsilon**2/np.pi*np.exp(-np.pi/epsilon)\n",
    "    \n"
   ]
  },
  {
   "cell_type": "code",
   "execution_count": 34,
   "metadata": {},
   "outputs": [
    {
     "name": "stdout",
     "output_type": "stream",
     "text": [
      "DD 0.3731282381929138 0.08840607593359419 3.41503467090682e+56\n",
      "main 0.0003490259339372766 0.00022050157209649497\n",
      "3.931814741207932e+51\n",
      "DD 0.3731282381929138 0.08840607593359419 3.41503467090682e+56\n",
      "main\n",
      "3.931814741207932e+51\n"
     ]
    }
   ],
   "source": [
    "E = np.array([-5.86178646e+17 ,-1.74279087e+17 , 2.92032451e+17])\n",
    "B = np.array([-5.16964682e+08, -1.10073687e+09, -1.03479431e+09])\n",
    "print(calculate_rate(E[0],E[1],E[2],B[0],B[1],B[2]))\n",
    "print(schwinger_rate(E,B))"
   ]
  },
  {
   "cell_type": "code",
   "execution_count": 24,
   "metadata": {},
   "outputs": [
    {
     "name": "stdout",
     "output_type": "stream",
     "text": [
      "4697522734778.628\n"
     ]
    }
   ],
   "source": [
    "print(schwinger_rate(E,B)*1e-27*1e-15)"
   ]
  },
  {
   "cell_type": "code",
   "execution_count": 15,
   "metadata": {},
   "outputs": [
    {
     "data": {
      "text/plain": [
       "1.0870392974100492e+56"
      ]
     },
     "execution_count": 15,
     "metadata": {},
     "output_type": "execute_result"
    }
   ],
   "source": [
    "me**4 * c**5 / (4 * np.pi**3 * hbar**4)"
   ]
  },
  {
   "cell_type": "code",
   "execution_count": 16,
   "metadata": {},
   "outputs": [
    {
     "name": "stdout",
     "output_type": "stream",
     "text": [
      "0.04368974555976263\n"
     ]
    }
   ],
   "source": [
    "def ff(n):\n",
    "    return np.exp(-np.pi*n)/n**2\n",
    "\n",
    "print(ff(1)+ff(2)+ff(3))"
   ]
  },
  {
   "cell_type": "code",
   "execution_count": 17,
   "metadata": {},
   "outputs": [
    {
     "data": {
      "text/plain": [
       "759.879525076931"
      ]
     },
     "execution_count": 17,
     "metadata": {},
     "output_type": "execute_result"
    }
   ],
   "source": [
    "0.04368974555976263*1.0870392974100492e+56*1e-27*1.6e-10*1e-15"
   ]
  },
  {
   "cell_type": "code",
   "execution_count": null,
   "metadata": {},
   "outputs": [],
   "source": []
  }
 ],
 "metadata": {
  "kernelspec": {
   "display_name": "Python 3",
   "language": "python",
   "name": "python3"
  },
  "language_info": {
   "codemirror_mode": {
    "name": "ipython",
    "version": 3
   },
   "file_extension": ".py",
   "mimetype": "text/x-python",
   "name": "python",
   "nbconvert_exporter": "python",
   "pygments_lexer": "ipython3",
   "version": "3.8.2"
  }
 },
 "nbformat": 4,
 "nbformat_minor": 2
}
