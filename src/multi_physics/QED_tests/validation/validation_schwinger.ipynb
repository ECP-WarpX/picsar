{
 "cells": [
  {
   "cell_type": "markdown",
   "metadata": {},
   "source": [
    "# Validation of the Schwinger engine"
   ]
  },
  {
   "cell_type": "markdown",
   "metadata": {},
   "source": [
    "According to Narozhny et al. Phys. Lett. A, 330, 1-2 (2004), the Schwinger pair\n",
    "production rate per unit time per unit volume (in Gaussian units) is given by: \n",
    "$$\n",
    "R = \\dfrac{e^2 E_s^2}{4 \\pi^2 \\hbar^2 c} \\epsilon \\eta \\coth{\\left({\\dfrac{\\pi \\eta}{\\epsilon}}\\right)}\\exp{\\left({-\\dfrac{\\pi}{\\epsilon}}\\right)}\n",
    "$$\n",
    "where $e$ is the elementary charge, $E_s$ is the Schwinger field, $\\epsilon = \\mathcal{E}/E_s$ and $\\eta = \\mathcal{H}/E_s$. $\\mathcal{E}$ and $\\mathcal{H}$ are given by:\n",
    "$$\n",
    "\\mathcal{E} = \\sqrt{\\sqrt{\\mathcal{F}^2 + \\mathcal{G}^2} + \\mathcal{F}} \\\\\n",
    "\\mathcal{B} = \\sqrt{\\sqrt{\\mathcal{F}^2 + \\mathcal{G}^2} - \\mathcal{F}} \\\\\n",
    "$$\n",
    "$\\mathcal{F}$ and $\\mathcal{G}$ are the invariants of the electromagnetic field and are equal to:\n",
    "$$\n",
    "\\mathcal{F} = (\\mathbf{E}^2 - \\mathbf{H}^2)/2 \\\\\n",
    "\\mathcal{G} = \\mathbf{E} \\cdot \\mathbf{H} \\\\\n",
    "$$ \n",
    "where $\\mathbf{E}$ is the electric field and  $\\mathbf{H}$ is the magnetic field.\n",
    "The Schwinger field  $E_s$ is given by\n",
    "$$\n",
    "E_s = \\dfrac{m_e^2 c^3}{e \\hbar}\n",
    "$$\n",
    "\n",
    "### Conversion from Gaussian to SI units (see https://en.wikipedia.org/wiki/Gaussian_units)\n",
    "The formula for the Schwinger field is identical\n",
    "$$\n",
    "E_s = \\dfrac{m_e^2 c^3}{e \\hbar}\n",
    "$$\n",
    "The expression for the two invariants becomes:\n",
    "$$\n",
    "\\mathcal{F} = 4 \\pi \\epsilon_0 (\\mathbf{E}^2 - c^2 \\mathbf{B}^2)/2 \\\\\n",
    "\\mathcal{G} = 4 \\pi \\epsilon_0  c \\mathbf{E} \\cdot \\mathbf{B} \\\\\n",
    "$$ \n",
    "where $\\epsilon_0$ is the electric permittivity and $c$ is the speed of light. However, since a factor $\\sqrt{4 \\pi \\epsilon_0}$ should apper in the expression of  $\\epsilon$ and $\\eta$, we can drop the $4 \\pi \\epsilon_0$ in the expression of the electromagnetic invariants:\n",
    "$$\n",
    "\\mathcal{F} = (\\mathbf{E}^2 - c^2 \\mathbf{B}^2)/2 \\\\\n",
    "\\mathcal{G} = c \\mathbf{E} \\cdot \\mathbf{B} \\\\\n",
    "$$ \n",
    "and keep  $\\epsilon$ and $\\eta$ defined as $\\epsilon = \\mathcal{E}/E_s$ and $\\eta = \\mathcal{H}/E_s$.\n",
    "Finally, nothing changes for $\\mathcal{E}$ and $\\mathcal{B}$\n",
    "$$\n",
    "\\mathcal{E} = \\sqrt{\\sqrt{\\mathcal{F}^2 + \\mathcal{G}^2} + \\mathcal{F}} \\\\\n",
    "\\mathcal{B} = \\sqrt{\\sqrt{\\mathcal{F}^2 + \\mathcal{G}^2} - \\mathcal{F}} \\\\\n",
    "$$\n",
    "and the formula for the rate remains identical:\n",
    "$$\n",
    "R = \\dfrac{e^2 E_s^2}{4 \\pi^2 \\hbar^2 c} \\epsilon \\eta \\coth{\\left({\\dfrac{\\pi \\eta}{\\epsilon}}\\right)}\\exp{\\left({-\\dfrac{\\pi}{\\epsilon}}\\right)}\n",
    "$$\n",
    "\n",
    "### Calculation of E_s in SI units\n",
    "$E_s$ should be $\\sim 1.32 \\cdot 10^{18}$ V/m"
   ]
  },
  {
   "cell_type": "code",
   "execution_count": 4,
   "metadata": {},
   "outputs": [
    {
     "name": "stdout",
     "output_type": "stream",
     "text": [
      "1.3232854658972884e+18\n"
     ]
    }
   ],
   "source": [
    "import scipy.constants as const\n",
    "c = const.c\n",
    "me = const.m_e\n",
    "hbar = const.hbar\n",
    "qe = const.e\n",
    "\n",
    "E_s = (me**2 * c**3)/(qe * hbar)\n",
    "print(E_s)"
   ]
  },
  {
   "cell_type": "markdown",
   "metadata": {},
   "source": [
    "### Calculation of B_s in SI units (the Schwinger magnetic field)\n",
    "B_s should be $\\sim 4.41 \\cdot 10^{9}$ T"
   ]
  },
  {
   "cell_type": "code",
   "execution_count": 5,
   "metadata": {},
   "outputs": [
    {
     "name": "stdout",
     "output_type": "stream",
     "text": [
      "4414005191.208941\n"
     ]
    }
   ],
   "source": [
    "B_s = E_s / c\n",
    "print(B_s)"
   ]
  },
  {
   "cell_type": "markdown",
   "metadata": {},
   "source": [
    "### Definition of a Schwinger pair production rate function"
   ]
  },
  {
   "cell_type": "code",
   "execution_count": null,
   "metadata": {},
   "outputs": [],
   "source": [
    "import numpy as np\n",
    "\n",
    "def schwinger_rate(E, B):\n",
    "    return 0"
   ]
  }
 ],
 "metadata": {
  "kernelspec": {
   "display_name": "Python 3",
   "language": "python",
   "name": "python3"
  },
  "language_info": {
   "codemirror_mode": {
    "name": "ipython",
    "version": 3
   },
   "file_extension": ".py",
   "mimetype": "text/x-python",
   "name": "python",
   "nbconvert_exporter": "python",
   "pygments_lexer": "ipython3",
   "version": "3.7.5"
  }
 },
 "nbformat": 4,
 "nbformat_minor": 2
}
