{
 "cells": [
  {
   "cell_type": "markdown",
   "metadata": {},
   "source": [
    "# Validation of the Schwinger engine"
   ]
  },
  {
   "cell_type": "markdown",
   "metadata": {},
   "source": [
    "According to Narozhny et al. Phys. Lett. A, 330, 1-2 (2004), the Schwinger pair\n",
    "production rate per unit time per unit volume (in Gaussian units) is given by: \n",
    "$$\n",
    "R = \\dfrac{e^2 E_s^2}{4 \\pi^2 \\hbar^2 c} \\epsilon \\eta \\coth{\\left({\\dfrac{\\pi \\eta}{\\epsilon}}\\right)}\\exp{\\left({-\\dfrac{\\pi}{\\epsilon}}\\right)}\n",
    "$$\n",
    "where $e$ is the elementary charge, $E_s$ is the Schwinger field, $\\epsilon = \\mathcal{E}/E_s$ and $\\eta = \\mathcal{H}/E_s$. $\\mathcal{E}$ and $\\mathcal{H}$ are given by:\n",
    "$$\n",
    "\\mathcal{E} = \\sqrt{\\sqrt{\\mathcal{F}^2 + \\mathcal{G}^2} + \\mathcal{F}} \\\\\n",
    "\\mathcal{H} = \\sqrt{\\sqrt{\\mathcal{F}^2 + \\mathcal{G}^2} - \\mathcal{F}} \\\\\n",
    "$$\n",
    "$\\mathcal{F}$ and $\\mathcal{G}$ are the invariants of the electromagnetic field and are equal to:\n",
    "$$\n",
    "\\mathcal{F} = (\\mathbf{E}^2 - \\mathbf{H}^2)/2 \\\\\n",
    "\\mathcal{G} = \\mathbf{E} \\cdot \\mathbf{H} \\\\\n",
    "$$ \n",
    "where $\\mathbf{E}$ is the electric field and  $\\mathbf{H}$ is the magnetic field.\n",
    "The Schwinger field  $E_s$ is given by\n",
    "$$\n",
    "E_s = \\dfrac{m_e^2 c^3}{e \\hbar}\n",
    "$$\n",
    "\n",
    "### Conversion from Gaussian to SI units (see https://en.wikipedia.org/wiki/Gaussian_units)\n",
    "The formula for the Schwinger field is identical\n",
    "$$\n",
    "E_s = \\dfrac{m_e^2 c^3}{e \\hbar}\n",
    "$$\n",
    "The expression for the two invariants becomes:\n",
    "$$\n",
    "\\mathcal{F} = 4 \\pi \\epsilon_0 (\\mathbf{E}^2 - c^2 \\mathbf{B}^2)/2 \\\\\n",
    "\\mathcal{G} = 4 \\pi \\epsilon_0  c \\mathbf{E} \\cdot \\mathbf{B} \\\\\n",
    "$$ \n",
    "where $\\epsilon_0$ is the electric permittivity and $c$ is the speed of light. However, since a factor $\\sqrt{4 \\pi \\epsilon_0}$ should apper in the expression of  $\\epsilon$ and $\\eta$, we can drop the $4 \\pi \\epsilon_0$ in the expression of the electromagnetic invariants:\n",
    "$$\n",
    "\\mathcal{F} = (\\mathbf{E}^2 - c^2 \\mathbf{B}^2)/2 \\\\\n",
    "\\mathcal{G} = c \\mathbf{E} \\cdot \\mathbf{B} \\\\\n",
    "$$ \n",
    "and keep  $\\epsilon$ and $\\eta$ defined as $\\epsilon = \\mathcal{E}/E_s$ and $\\eta = \\mathcal{H}/E_s$.\n",
    "Finally, nothing changes for $\\mathcal{E}$ and $\\mathcal{H}$\n",
    "$$\n",
    "\\mathcal{E} = \\sqrt{\\sqrt{\\mathcal{F}^2 + \\mathcal{G}^2} + \\mathcal{F}} \\\\\n",
    "\\mathcal{H} = \\sqrt{\\sqrt{\\mathcal{F}^2 + \\mathcal{G}^2} - \\mathcal{F}} \\\\\n",
    "$$\n",
    "and the formula for the rate remains identical:\n",
    "$$\n",
    "R = \\dfrac{e^2 E_s^2}{4 \\pi^2 \\hbar^2 c} \\epsilon \\eta \\coth{\\left({\\dfrac{\\pi \\eta}{\\epsilon}}\\right)}\\exp{\\left({-\\dfrac{\\pi}{\\epsilon}}\\right)}\n",
    "$$\n",
    "\n",
    "### Calculation of E_s in SI units\n",
    "$E_s$ should be $\\sim 1.32 \\cdot 10^{18}$ V/m"
   ]
  },
  {
   "cell_type": "code",
   "execution_count": 3,
   "metadata": {},
   "outputs": [
    {
     "name": "stdout",
     "output_type": "stream",
     "text": [
      "1.3232854658972884e+18\n"
     ]
    }
   ],
   "source": [
    "import scipy.constants as const\n",
    "c = const.c\n",
    "me = const.m_e\n",
    "hbar = const.hbar\n",
    "qe = const.e\n",
    "\n",
    "E_s = (me**2 * c**3)/(qe * hbar)\n",
    "print(E_s)"
   ]
  },
  {
   "cell_type": "markdown",
   "metadata": {},
   "source": [
    "### Calculation of B_s in SI units (the Schwinger magnetic field)\n",
    "B_s should be $\\sim 4.41 \\cdot 10^{9}$ T"
   ]
  },
  {
   "cell_type": "code",
   "execution_count": 4,
   "metadata": {},
   "outputs": [
    {
     "name": "stdout",
     "output_type": "stream",
     "text": [
      "4414005191.208941\n"
     ]
    }
   ],
   "source": [
    "B_s = E_s / c\n",
    "print(B_s)"
   ]
  },
  {
   "cell_type": "markdown",
   "metadata": {},
   "source": [
    "### Definition of a Schwinger pair production rate function"
   ]
  },
  {
   "cell_type": "code",
   "execution_count": 23,
   "metadata": {},
   "outputs": [],
   "source": [
    "import numpy as np\n",
    "\n",
    "\n",
    "def schwinger_rate(E, B):\n",
    "    ff = (np.dot(E,E) - c**2 * np.dot(B,B))/2\n",
    "    gg = c*np.dot(E,B)\n",
    "    tt = np.sqrt(ff**2 + gg**2)\n",
    "    epsi = np.sqrt(tt + ff)/E_s\n",
    "    eta = np.sqrt(tt - ff)/E_s\n",
    "    \n",
    "    coeff = (qe**2 * E_s**2)/(4* np.pi**2 * hbar**2 * c)\n",
    "        \n",
    "    if epsi == 0.0:\n",
    "        return 0.0\n",
    "    elif eta  == 0.0 :\n",
    "        return coeff * epsi*(epsi/np.pi)*np.exp(-np.pi/epsi)\n",
    "    else :  \n",
    "        return coeff * epsi*eta *(1./np.tanh(np.pi*epsi/eta))*np.exp(-np.pi/epsi)\n",
    "\n"
   ]
  },
  {
   "cell_type": "markdown",
   "metadata": {},
   "source": [
    "### Generation of test cases"
   ]
  },
  {
   "cell_type": "code",
   "execution_count": 12,
   "metadata": {},
   "outputs": [],
   "source": [
    "volume = (1.0e-27) # one cubic nanometer\n",
    "dt = 1.0e-15 # one femtosecond"
   ]
  },
  {
   "cell_type": "code",
   "execution_count": 24,
   "metadata": {},
   "outputs": [
    {
     "name": "stdout",
     "output_type": "stream",
     "text": [
      "***\n",
      "[3.57893317e+18 5.46020302e+19 9.93627604e+18]\n",
      "[-7.66560594e+10 -1.58756483e+11  3.79913127e+10]\n",
      "4.633600473471703e+17\n",
      "***\n",
      "***\n",
      "[2.63027345e+19 5.82283618e+19 5.21228166e+19]\n",
      "[-1.46751168e+11 -1.13715939e+11 -2.20142017e+11]\n",
      "1.2241805315872207e+18\n",
      "***\n",
      "***\n",
      "[-5.72700255e+19  3.05690850e+19 -1.56885482e+19]\n",
      "[-1.13822760e+11  1.06825949e+11  9.28231563e+10]\n",
      "4.533779338036168e+17\n",
      "***\n",
      "***\n",
      "[ 4.08924065e+18  5.09660844e+18 -3.09114980e+18]\n",
      "[ 2.82723347e+09 -1.72430897e+10 -3.22323832e+09]\n",
      "1924135638387076.8\n",
      "***\n",
      "***\n",
      "[ 1.40188131e+18  2.80895435e+18 -1.30237411e+18]\n",
      "[1.40480952e+10 3.88973241e+09 2.14776599e+10]\n",
      "0.36323896564190056\n",
      "***\n",
      "***\n",
      "[ 1.79831437e+17 -2.33546419e+18 -1.49073347e+18]\n",
      "[ 1.91233703e+10 -5.64845738e+09  1.18296650e+10]\n",
      "1.5245496593283996e-23\n",
      "***\n",
      "***\n",
      "[ 2.84840265e+17 -2.26101913e+17  8.05255189e+16]\n",
      "[-1.10232465e+09  6.27803848e+08  1.43519500e+09]\n",
      "59358.92423539451\n",
      "***\n",
      "***\n",
      "[ 1.94328962e+17  2.33617327e+16 -1.62237028e+17]\n",
      "[ 4.39113097e+08  1.73396867e+09 -9.39886070e+08]\n",
      "11.824643978624094\n",
      "***\n",
      "***\n",
      "[-6.24886019e+16 -4.80988215e+17  2.84752855e+17]\n",
      "[ 2.39218340e+08 -1.81859024e+09 -1.88650289e+09]\n",
      "426.1893591566148\n",
      "***\n",
      "***\n",
      "[-3.69366535e+16 -4.35603586e+16  1.44138413e+16]\n",
      "[-1.24407952e+08  9.29386520e+07 -5.27131017e+07]\n",
      "3.513619421875424e-46\n",
      "***\n",
      "***\n",
      "[3.03970055e+16 6.56492793e+16 5.86795997e+16]\n",
      "[-1.22489948e+08 -2.11647320e+08 -2.85783764e+07]\n",
      "2.3442339750793038e-09\n",
      "***\n",
      "***\n",
      "[-4.04434928e+15 -2.20946258e+16 -7.00891788e+15]\n",
      "[ 7.87961142e+07  1.17354227e+08 -1.86884268e+08]\n",
      "1.298153901217581e-239\n",
      "***\n",
      "***\n",
      "[-5.47402833e+15 -4.02027220e+15 -4.38637670e+15]\n",
      "[  4701162.2570246   -4001597.72378285 -21179754.38111386]\n",
      "7.187740257028288e-284\n",
      "***\n",
      "***\n",
      "[ 5.58083834e+15 -4.67677877e+15 -2.20588558e+15]\n",
      "[ -1844729.8890937  -12775474.75424661 -15452651.37705574]\n",
      "4.811615718610674e-284\n",
      "***\n",
      "***\n",
      "[ 2.61026028e+14 -4.26224458e+15  1.05656648e+14]\n",
      "[-15772720.24384497  18000754.89197329  -7391463.75672548]\n",
      "0.0\n",
      "***\n",
      "***\n",
      "[4.71385789e+17 2.15655806e+16 4.60270996e+17]\n",
      "[ 0. -0.  0.]\n",
      "49204163552.44874\n",
      "***\n",
      "***\n",
      "[-3.44177020e+17 -4.17831129e+17  7.88395279e+16]\n",
      "[-0. -0. -0.]\n",
      "9302198288.54576\n",
      "***\n",
      "***\n",
      "[-6.44327374e+17  5.57615060e+16 -2.04397064e+17]\n",
      "[ 0.  0. -0.]\n",
      "62210694991.27943\n",
      "***\n",
      "***\n",
      "[ 0. -0.  0.]\n",
      "[ 6.86477591e+08 -5.08155443e+08  6.93488155e+08]\n",
      "0.0\n",
      "***\n",
      "***\n",
      "[-0. -0. -0.]\n",
      "[1.98956240e+09 1.16110286e+09 1.54450771e+09]\n",
      "0.0\n",
      "***\n",
      "***\n",
      "[0. 0. 0.]\n",
      "[3.70088189e+08 1.53036514e+09 1.31697353e+09]\n",
      "0.0\n",
      "***\n"
     ]
    }
   ],
   "source": [
    "def calcandprint(E,B):\n",
    "    print(\"***\")\n",
    "    print(E)\n",
    "    print(B)\n",
    "    print(schwinger_rate(E,B)*dt*volume)\n",
    "    print(\"***\")\n",
    "\n",
    "for i in range(3):\n",
    "    E = E_s * ( np.random.rand(3) - 0.5 )*100\n",
    "    B = B_s * ( np.random.rand(3) - 0.5 )*100\n",
    "    calcandprint(E,B)\n",
    "    \n",
    "for i in range(3):\n",
    "    E = E_s * ( np.random.rand(3) - 0.5 )*10\n",
    "    B = B_s * ( np.random.rand(3) - 0.5 )*10\n",
    "    calcandprint(E,B)\n",
    "    \n",
    "for i in range(3):\n",
    "    E = E_s * ( np.random.rand(3) - 0.5 )*1\n",
    "    B = B_s * ( np.random.rand(3) - 0.5 )*1\n",
    "    calcandprint(E,B)\n",
    "    \n",
    "for i in range(3):\n",
    "    E = E_s * ( np.random.rand(3) - 0.5 )*0.1\n",
    "    B = B_s * ( np.random.rand(3) - 0.5 )*0.1\n",
    "    calcandprint(E,B)\n",
    "\n",
    "for i in range(3):\n",
    "    E = E_s * ( np.random.rand(3) - 0.5 )*0.01\n",
    "    B = B_s * ( np.random.rand(3) - 0.5 )*0.01\n",
    "    calcandprint(E,B)\n",
    "    \n",
    "for i in range(3):\n",
    "    E = E_s * ( np.random.rand(3) - 0.5 )*1\n",
    "    B = B_s * ( np.random.rand(3) - 0.5 )*0.0\n",
    "    calcandprint(E,B)\n",
    "    \n",
    "for i in range(3):\n",
    "    E = E_s * ( np.random.rand(3) - 0.5 )*0.0\n",
    "    B = B_s * ( np.random.rand(3) - 0.5 )*1\n",
    "    calcandprint(E,B)"
   ]
  },
  {
   "cell_type": "code",
   "execution_count": 14,
   "metadata": {},
   "outputs": [
    {
     "name": "stdout",
     "output_type": "stream",
     "text": [
      "***\n",
      "[1.32328547e+18 0.00000000e+00 0.00000000e+00]\n",
      "[-0. -0.  0.]\n",
      "<class 'numpy.float64'> 1.0\n",
      "4697522743326.988\n",
      "***\n"
     ]
    }
   ],
   "source": [
    "E = E_s * ( np.array([1,0,0]))\n",
    "B = B_s * ( np.random.rand(3) - 0.5 )*0.0\n",
    "calcandprint(E,B)"
   ]
  },
  {
   "cell_type": "code",
   "execution_count": 21,
   "metadata": {},
   "outputs": [
    {
     "name": "stdout",
     "output_type": "stream",
     "text": [
      "1.7392628790211182e-05\n"
     ]
    }
   ],
   "source": [
    "coeff = (qe**2 * E_s**2)/(4* np.pi**2 * hbar**2 * c)/np.pi\n",
    "print(coeff*volume*dt*1.60e-19)"
   ]
  },
  {
   "cell_type": "code",
   "execution_count": null,
   "metadata": {},
   "outputs": [],
   "source": []
  }
 ],
 "metadata": {
  "kernelspec": {
   "display_name": "Python 3",
   "language": "python",
   "name": "python3"
  },
  "language_info": {
   "codemirror_mode": {
    "name": "ipython",
    "version": 3
   },
   "file_extension": ".py",
   "mimetype": "text/x-python",
   "name": "python",
   "nbconvert_exporter": "python",
   "pygments_lexer": "ipython3",
   "version": "3.7.5"
  }
 },
 "nbformat": 4,
 "nbformat_minor": 2
}
