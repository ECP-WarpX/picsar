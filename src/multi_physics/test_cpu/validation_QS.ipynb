{
 "cells": [
  {
   "cell_type": "markdown",
   "metadata": {},
   "source": [
    "# QS engine validation"
   ]
  },
  {
   "cell_type": "code",
   "execution_count": 1,
   "metadata": {},
   "outputs": [],
   "source": [
    "import math as m\n",
    "import numpy as np\n",
    "\n",
    "electron_mass = 9.10938356e-31\n",
    "elementary_charge = 1.6021766208e-19\n",
    "speed_of_light = 299792458\n",
    "reduced_plank = 1.054571800e-34\n",
    "vacuum_permittivity =  8.854187817e-12\n",
    "fine_structure_constant =  0.0072973525664\n",
    "\n",
    "classical_elec_radius = (1./4./np.pi/vacuum_permittivity)*( elementary_charge**2 / (electron_mass * speed_of_light**2))\n",
    "\n",
    "tau_e = classical_elec_radius/speed_of_light\n",
    "\n",
    "lambda_laser = 1.0e-6\n",
    "\n",
    "schwinger_field_SI = electron_mass**2 * speed_of_light**3 / (reduced_plank*elementary_charge)\n",
    "\n",
    "schwinger_field_code_units = electron_mass*speed_of_light*lambda_laser/(2.0*reduced_plank*m.pi)\n",
    "\n",
    "conversion_of_rate_from_code_to_SI = (2.0 * m.pi * speed_of_light)/lambda_laser\n",
    "\n",
    "conversion_of_rate_from_SI_to_code = 1.0/conversion_of_rate_from_code_to_SI\n",
    "\n",
    "field_reference_PIC = 2.0 * np.pi * electron_mass * speed_of_light * speed_of_light / (elementary_charge*lambda_laser)\n",
    "\n",
    "qs_coeff = fine_structure_constant*fine_structure_constant/tau_e\n"
   ]
  },
  {
   "cell_type": "code",
   "execution_count": 2,
   "metadata": {},
   "outputs": [],
   "source": [
    "def calc_chi_gamma(p, E, B):\n",
    "    gamma_phot = np.linalg.norm(p)  \n",
    "    c = p/gamma_phot  \n",
    "    loc_field = gamma_phot * np.linalg.norm( E - np.dot(c,E)*c + np.cross(c,B))     \n",
    "    return loc_field/schwinger_field_code_units\n",
    "\n",
    "def calc_chi_elec(p, E, B):\n",
    "    gamma_elec = np.sqrt(1.0 + np.dot(p,p))\n",
    "    v = p/gamma_elec\n",
    "    evcb = E + np.cross(v,B)\n",
    "    loc_field = gamma_elec * np.sqrt(np.abs(np.dot(v,E)**2 - np.dot(evcb,evcb)))\n",
    "    return loc_field/schwinger_field_code_units"
   ]
  },
  {
   "cell_type": "code",
   "execution_count": 65,
   "metadata": {},
   "outputs": [
    {
     "name": "stdout",
     "output_type": "stream",
     "text": [
      "1943031340366652.2\n"
     ]
    }
   ],
   "source": [
    "import scipy.special as spe\n",
    "import scipy.integrate as integ\n",
    "\n",
    "def y(chi_ele, chi_phot):\n",
    "    return 2*chi_phot/3/chi_ele/(chi_ele-chi_phot)\n",
    "\n",
    "#y = np.vectorize(y)\n",
    "\n",
    "def inner(x):\n",
    "    return integ.quad(lambda s: spe.kv(5./3., s), x, np.inf, limit=800)[0] \n",
    "\n",
    "#inner = np.vectorize(inner)\n",
    "\n",
    "def KK_integ(chi_ele, chi_phot):\n",
    "    if(chi_ele == 0 or chi_phot == 0 or chi_phot >= chi_ele):\n",
    "        return 0\n",
    "    yy = y(chi_ele, chi_phot)\n",
    "    return (inner(yy) + (3/2)*chi_phot*yy*spe.kv(2./3., yy))/chi_ele/np.sqrt(3)/np.pi   \n",
    "\n",
    "#KK_integ = np.vectorize(KK_integ)\n",
    "\n",
    "\n",
    "def KK_func(chi_ele):\n",
    "    return integ.quad(lambda s: KK_integ(chi_ele, s), 0.0, chi_ele, limit=800)[0]\n",
    "\n",
    "#KK_func = np.vectorize(KK_func)\n",
    "\n",
    "def rate(chi_ele, gamma_ele):\n",
    "    return qs_coeff*KK_func(chi_ele)/gamma_ele\n",
    "\n",
    "#rate = np.vectorize(rate)\n",
    "\n",
    "p = np.array([100,0,0])\n",
    "E = np.array([0,0,0])\n",
    "B = np.array([0,0,100])\n",
    "print(rate(calc_chi_elec(p,E,B), np.sqrt(1.0 + np.dot(p,p))))\n"
   ]
  },
  {
   "cell_type": "code",
   "execution_count": 67,
   "metadata": {},
   "outputs": [
    {
     "name": "stderr",
     "output_type": "stream",
     "text": [
      "/usr/lib/python3/dist-packages/ipykernel_launcher.py:24: IntegrationWarning: The integral is probably divergent, or slowly convergent.\n",
      "/usr/lib/python3/dist-packages/ipykernel_launcher.py:10: IntegrationWarning: The integral is probably divergent, or slowly convergent.\n",
      "  # Remove the CWD from sys.path while we load stuff.\n",
      "/usr/lib/python3/dist-packages/ipykernel_launcher.py:24: IntegrationWarning: The algorithm does not converge.  Roundoff error is detected\n",
      "  in the extrapolation table.  It is assumed that the requested tolerance\n",
      "  cannot be achieved, and that the returned result (if full_output = 1) is \n",
      "  the best which can be obtained.\n"
     ]
    }
   ],
   "source": [
    "BBZfield = 1000\n",
    "momxlist = np.logspace(-2, 4.0, num=100)\n",
    "\n",
    "chilist = []\n",
    "ratelist = []\n",
    "\n",
    "for momx in momxlist:  \n",
    "    p = np.array([momx,0,0])\n",
    "    E = np.array([0,0,0])\n",
    "    B = np.array([0,0,BBZfield])\n",
    "    chilist.append(calc_chi_elec(p,E,B))\n",
    "    ratelist.append(rate(chilist[-1], np.sqrt(1.0 + np.dot(p,p))))\n",
    "    \n"
   ]
  },
  {
   "cell_type": "code",
   "execution_count": 68,
   "metadata": {},
   "outputs": [
    {
     "name": "stdout",
     "output_type": "stream",
     "text": [
      "[2.4263102357725558e-05, 2.7896671665846258e-05, 3.2074393396120535e-05, 3.6877758180328544e-05, 4.240046044241881e-05, 4.8750226001756005e-05, 5.605091337273957e-05, 6.444492974873981e-05, 7.409600879652924e-05, 8.519240444486161e-05, 9.79505629652328e-05, 0.00011261934497242287, 0.00012948487969915398, 0.00014887614623233656, 0.0001711713905784853, 0.00019680550372957152, 0.00022627850464585001, 0.00026016529362470504, 0.00029912686630471057, 0.00034392320704524444, 0.0003954281131798935, 0.0004546462393055101, 0.0005227326940727835, 0.0006010155717332873, 0.0006910218579433166, 0.0007945072151430688, 0.000913490228504717, 0.0010502917804507748, 0.0012075803217820211, 0.0013884239224735274, 0.0015963501174415023, 0.0018354147146323644, 0.0021102809076044998, 0.002426310235772556, 0.0027896671665846254, 0.003207439339612053, 0.003687775818032852, 0.004240046044241883, 0.004875022600175602, 0.005605091337273956, 0.006444492974873982, 0.007409600879652922, 0.008519240444486164, 0.009795056296523282, 0.011261934497242292, 0.012948487969915407, 0.014887614623233665, 0.017117139057848528, 0.019680550372957153, 0.022627850464584997, 0.02601652936247051, 0.029912686630471058, 0.03439232070452442, 0.03954281131798938, 0.04546462393055104, 0.05227326940727836, 0.06010155717332873, 0.06910218579433167, 0.07945072151430686, 0.0913490228504717, 0.10502917804507754, 0.12075803217820218, 0.13884239224735284, 0.15963501174415026, 0.18354147146323643, 0.21102809076044998, 0.2426310235772556, 0.2789667166584625, 0.3207439339612053, 0.36877758180328524, 0.4240046044241879, 0.4875022600175597, 0.5605091337273951, 0.6444492974873985, 0.7409600879652931, 0.8519240444486171, 0.9795056296523291, 1.1261934497242292, 1.2948487969915403, 1.4887614623233663, 1.7117139057848527, 1.9680550372957153, 2.2627850464585, 2.6016529362470506, 2.9912686630471055, 3.439232070452442, 3.954281131798933, 4.5464623930551, 5.22732694072784, 6.0101557173328795, 6.910218579433174, 7.945072151430694, 9.134902285047179, 10.502917804507755, 12.075803217820217, 13.884239224735284, 15.963501174415024, 18.354147146323644, 21.102809076044995, 24.26310235772556]\n"
     ]
    },
    {
     "data": {
      "image/png": "[encoded data removed]",
      "text/plain": [
       "<Figure size 432x288 with 1 Axes>"
      ]
     },
     "metadata": {
      "needs_background": "light"
     },
     "output_type": "display_data"
    }
   ],
   "source": [
    "import matplotlib.pyplot as plt\n",
    "\n",
    "print(chilist)\n",
    "\n",
    "x, y = np.loadtxt('qs_rate.dat', delimiter=' ', unpack=True)\n",
    "#plt.loglog(x, y, 'ro', label='From QS library', markersize=4)\n",
    "plt.loglog(np.array(chilist), np.array(ratelist)*1e-15, label='From QS theory')\n",
    "\n",
    "plt.xlabel('$\\chi$')\n",
    "plt.ylabel('$dN_{QS}/dt$ (fs$^{-1}$)')\n",
    "plt.title('Photon production rate')\n",
    "plt.legend()\n",
    "plt.ylim(1e-3, 1e3)\n",
    "plt.xlim(1e-5,1e5)\n",
    "plt.show()"
   ]
  },
  {
   "cell_type": "code",
   "execution_count": 28,
   "metadata": {},
   "outputs": [
    {
     "name": "stdout",
     "output_type": "stream",
     "text": [
      "0.11586593933804681\n",
      "1.84794209562732e-31\n",
      "0.0\n",
      "\n",
      "21.82693639032425\n",
      "0.005651238787235672\n",
      "2.268551951683091e-260\n",
      "\n",
      "20.55416605907147\n",
      "1.9245303609391278\n",
      "2.3760791806172353e-26\n",
      "\n",
      "10.74503711441692\n",
      "1.920678223127885\n",
      "0.002174633871030589\n",
      "\n",
      "5.108747823281633\n",
      "1.0120166029693047\n",
      "0.1717705431703861\n",
      "\n",
      "2.3834091215328597\n",
      "0.4818744514855814\n",
      "0.12424034937159859\n",
      "\n",
      "1.1074943786268197\n",
      "0.224880240601137\n",
      "0.06002247759561616\n",
      "\n"
     ]
    },
    {
     "name": "stderr",
     "output_type": "stream",
     "text": [
      "/usr/lib/python3/dist-packages/ipykernel_launcher.py:10: IntegrationWarning: The integral is probably divergent, or slowly convergent.\n",
      "  # Remove the CWD from sys.path while we load stuff.\n"
     ]
    },
    {
     "data": {
      "text/plain": [
       "<Figure size 640x480 with 1 Axes>"
      ]
     },
     "metadata": {},
     "output_type": "display_data"
    }
   ],
   "source": [
    "\n",
    "\n",
    "def KK(chi_ele):\n",
    "    return integ.quad(lambda s: KK_integ(chi_ele, s), 0.001, chi_ele, limit=400)[0] \n",
    "\n",
    "KK = np.vectorize(KK)\n",
    "\n",
    "frac = [0.01,0.1,0.9]\n",
    "chi = [0.001, 0.01, 0.1, 1.0, 10.0, 100.0, 1000.0]\n",
    "       \n",
    "for cchi in chi :\n",
    "    for ffrac in frac :\n",
    "        print(KK_integ(cchi, cchi*ffrac))\n",
    "    print(\"\")\n",
    "    \n",
    "frac = np.logspace(-5, 1.0, num=1000, base=10)\n",
    "res = KK_integ(10.0, 10.0*frac)\n",
    "\n",
    "\n",
    "import matplotlib.pyplot as plt\n",
    "plt.semilogx(frac*0.09, res, 'ro', label='From BW library', markersize=4)\n",
    "plt.show()\n",
    "\n",
    "\n"
   ]
  },
  {
   "cell_type": "code",
   "execution_count": 30,
   "metadata": {},
   "outputs": [
    {
     "name": "stderr",
     "output_type": "stream",
     "text": [
      "/usr/lib/python3/dist-packages/ipykernel_launcher.py:6: IntegrationWarning: The integral is probably divergent, or slowly convergent.\n",
      "  \n"
     ]
    }
   ],
   "source": [
    "momx = np.logspace(-3, 5.0, num=200)\n",
    "chis = []\n",
    "for mm in momx:\n",
    "    chis.append(calc_chi_elec(np.array([mm,0,0]),np.array([0, 0, 0]), np.array([0, 0, 500])))\n",
    "\n",
    "tcoeff = fine_structure_constant*fine_structure_constant/tau_e\n",
    "th_rates = tcoeff*KK(np.array(chis))"
   ]
  },
  {
   "cell_type": "code",
   "execution_count": 12,
   "metadata": {},
   "outputs": [
    {
     "ename": "NameError",
     "evalue": "name 'th_rates' is not defined",
     "output_type": "error",
     "traceback": [
      "\u001b[0;31m---------------------------------------------------------------------------\u001b[0m",
      "\u001b[0;31mNameError\u001b[0m                                 Traceback (most recent call last)",
      "\u001b[0;32m<ipython-input-12-af99cb786183>\u001b[0m in \u001b[0;36m<module>\u001b[0;34m()\u001b[0m\n\u001b[1;32m      4\u001b[0m \u001b[0mx\u001b[0m\u001b[0;34m,\u001b[0m \u001b[0my\u001b[0m \u001b[0;34m=\u001b[0m \u001b[0mnp\u001b[0m\u001b[0;34m.\u001b[0m\u001b[0mloadtxt\u001b[0m\u001b[0;34m(\u001b[0m\u001b[0;34m'qs_rate.dat'\u001b[0m\u001b[0;34m,\u001b[0m \u001b[0mdelimiter\u001b[0m\u001b[0;34m=\u001b[0m\u001b[0;34m' '\u001b[0m\u001b[0;34m,\u001b[0m \u001b[0munpack\u001b[0m\u001b[0;34m=\u001b[0m\u001b[0;32mTrue\u001b[0m\u001b[0;34m)\u001b[0m\u001b[0;34m\u001b[0m\u001b[0;34m\u001b[0m\u001b[0m\n\u001b[1;32m      5\u001b[0m \u001b[0mplt\u001b[0m\u001b[0;34m.\u001b[0m\u001b[0mloglog\u001b[0m\u001b[0;34m(\u001b[0m\u001b[0mx\u001b[0m\u001b[0;34m,\u001b[0m \u001b[0my\u001b[0m\u001b[0;34m,\u001b[0m \u001b[0;34m'ro'\u001b[0m\u001b[0;34m,\u001b[0m \u001b[0mlabel\u001b[0m\u001b[0;34m=\u001b[0m\u001b[0;34m'From QS library'\u001b[0m\u001b[0;34m,\u001b[0m \u001b[0mmarkersize\u001b[0m\u001b[0;34m=\u001b[0m\u001b[0;36m4\u001b[0m\u001b[0;34m)\u001b[0m\u001b[0;34m\u001b[0m\u001b[0;34m\u001b[0m\u001b[0m\n\u001b[0;32m----> 6\u001b[0;31m \u001b[0mplt\u001b[0m\u001b[0;34m.\u001b[0m\u001b[0mloglog\u001b[0m\u001b[0;34m(\u001b[0m\u001b[0mchis\u001b[0m\u001b[0;34m,\u001b[0m \u001b[0mth_rates\u001b[0m\u001b[0;34m*\u001b[0m\u001b[0;36m1e-15\u001b[0m\u001b[0;34m,\u001b[0m \u001b[0mlabel\u001b[0m\u001b[0;34m=\u001b[0m\u001b[0;34m'From QS theory'\u001b[0m\u001b[0;34m)\u001b[0m\u001b[0;34m\u001b[0m\u001b[0;34m\u001b[0m\u001b[0m\n\u001b[0m\u001b[1;32m      7\u001b[0m \u001b[0;34m\u001b[0m\u001b[0m\n\u001b[1;32m      8\u001b[0m \u001b[0mplt\u001b[0m\u001b[0;34m.\u001b[0m\u001b[0mxlabel\u001b[0m\u001b[0;34m(\u001b[0m\u001b[0;34m'$\\chi_{\\gamma}$'\u001b[0m\u001b[0;34m)\u001b[0m\u001b[0;34m\u001b[0m\u001b[0;34m\u001b[0m\u001b[0m\n",
      "\u001b[0;31mNameError\u001b[0m: name 'th_rates' is not defined"
     ]
    },
    {
     "data": {
      "image/png": "[encoded data removed]",
      "text/plain": [
       "<Figure size 432x288 with 1 Axes>"
      ]
     },
     "metadata": {
      "needs_background": "light"
     },
     "output_type": "display_data"
    }
   ],
   "source": [
    "import matplotlib.pyplot as plt\n",
    "import numpy as np\n",
    "\n",
    "x, y = np.loadtxt('qs_rate.dat', delimiter=' ', unpack=True)\n",
    "plt.loglog(x, y, 'ro', label='From QS library', markersize=4)\n",
    "plt.loglog(chis, th_rates*1e-15, label='From QS theory')\n",
    "\n",
    "plt.xlabel('$\\chi_{\\gamma}$')\n",
    "plt.ylabel('$dN_{QS}/dt$ (fs$^{-1}$)')\n",
    "plt.title('Photon production rate')\n",
    "plt.legend()\n",
    "#plt.ylim(1e-5, 1)\n",
    "#plt.xlim(1e-2,1e3)\n",
    "plt.show()"
   ]
  },
  {
   "cell_type": "code",
   "execution_count": 52,
   "metadata": {},
   "outputs": [
    {
     "data": {
      "image/png": "[encoded data removed]",
      "text/plain": [
       "<Figure size 432x288 with 1 Axes>"
      ]
     },
     "metadata": {
      "needs_background": "light"
     },
     "output_type": "display_data"
    }
   ],
   "source": [
    "plt.plot(x, y, 'ro', label='From QS library', markersize=4)\n",
    "plt.plot(chis, th_rates*1e-15, label='From QS theory')\n",
    "\n",
    "plt.xlabel('$\\chi_{\\gamma}$')\n",
    "plt.ylabel('$dN_{QS}/dt$ (fs$^{-1}$)')\n",
    "plt.title('Photon production rate')\n",
    "plt.legend()\n",
    "#plt.ylim(1e-5, 1)\n",
    "#plt.xlim(1e-2,1e3)\n",
    "plt.show()"
   ]
  },
  {
   "cell_type": "code",
   "execution_count": null,
   "metadata": {},
   "outputs": [],
   "source": [
    "print(tau_e)"
   ]
  },
  {
   "cell_type": "code",
   "execution_count": null,
   "metadata": {},
   "outputs": [],
   "source": []
  }
 ],
 "metadata": {
  "kernelspec": {
   "display_name": "Python 3",
   "language": "python",
   "name": "python3"
  },
  "language_info": {
   "codemirror_mode": {
    "name": "ipython",
    "version": 3
   },
   "file_extension": ".py",
   "mimetype": "text/x-python",
   "name": "python",
   "nbconvert_exporter": "python",
   "pygments_lexer": "ipython3",
   "version": "3.7.3"
  }
 },
 "nbformat": 4,
 "nbformat_minor": 2
}
