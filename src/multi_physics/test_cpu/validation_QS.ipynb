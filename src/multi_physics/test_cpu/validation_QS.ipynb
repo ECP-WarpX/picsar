{
 "cells": [
  {
   "cell_type": "markdown",
   "metadata": {},
   "source": [
    "# QS engine validation"
   ]
  },
  {
   "cell_type": "code",
   "execution_count": 4,
   "metadata": {},
   "outputs": [],
   "source": [
    "import math as m\n",
    "import numpy as np\n",
    "\n",
    "electron_mass = 9.10938356e-31\n",
    "elementary_charge = 1.6021766208e-19\n",
    "speed_of_light = 299792458\n",
    "reduced_plank = 1.054571800e-34\n",
    "vacuum_permittivity =  8.854187817e-12\n",
    "fine_structure_constant =  0.0072973525664\n",
    "\n",
    "classical_elec_radius = (1./4./np.pi/vacuum_permittivity)*( elementary_charge**2 / (electron_mass * speed_of_light**2))\n",
    "\n",
    "tau_e = classical_elec_radius/speed_of_light\n",
    "\n",
    "lambda_laser = 1.0e-6\n",
    "\n",
    "schwinger_field_SI = electron_mass**2 * speed_of_light**3 / (reduced_plank*elementary_charge)\n",
    "\n",
    "schwinger_field_code_units = electron_mass*speed_of_light*lambda_laser/(2.0*reduced_plank*m.pi)\n",
    "\n",
    "conversion_of_rate_from_code_to_SI = (2.0 * m.pi * speed_of_light)/lambda_laser\n",
    "\n",
    "conversion_of_rate_from_SI_to_code = 1.0/conversion_of_rate_from_code_to_SI\n",
    "\n",
    "field_reference_PIC = 2.0 * np.pi * electron_mass * speed_of_light * speed_of_light / (elementary_charge*lambda_laser)\n",
    "\n",
    "qs_coeff = fine_structure_constant*fine_structure_constant/tau_e\n"
   ]
  },
  {
   "cell_type": "code",
   "execution_count": 6,
   "metadata": {},
   "outputs": [],
   "source": [
    "def calc_chi_gamma(p, E, B):\n",
    "    gamma_phot = np.linalg.norm(p)  \n",
    "    c = p/gamma_phot  \n",
    "    loc_field = gamma_phot * np.linalg.norm( E - np.dot(c,E)*c + np.cross(c,B))     \n",
    "    return loc_field/schwinger_field_code_units\n",
    "\n",
    "def calc_chi_elec(p, E, B):\n",
    "    gamma_elec = np.sqrt(1.0 + np.dot(p,p))\n",
    "    v = p/gamma_elec\n",
    "    evcb = E + np.cross(v,B)\n",
    "    loc_field = gamma_elec * np.sqrt(np.abs(np.dot(v,E)**2 - np.dot(evcb,evcb)))\n",
    "    return loc_field/schwinger_field_code_units"
   ]
  },
  {
   "cell_type": "code",
   "execution_count": 7,
   "metadata": {},
   "outputs": [
    {
     "name": "stdout",
     "output_type": "stream",
     "text": [
      "1943031340381662.8\n"
     ]
    }
   ],
   "source": [
    "import scipy.special as spe\n",
    "import scipy.integrate as integ\n",
    "\n",
    "def y(chi_ele, chi_phot):\n",
    "    return 2*chi_phot/3/chi_ele/(chi_ele-chi_phot)\n",
    "\n",
    "#y = np.vectorize(y)\n",
    "\n",
    "def inner(x):\n",
    "    return integ.quad(lambda s: spe.kv(5./3., s), x, np.inf, limit=800)[0] \n",
    "\n",
    "#inner = np.vectorize(inner)\n",
    "\n",
    "def KK_integ(chi_ele, chi_phot):\n",
    "    if(chi_ele == 0 or chi_phot == 0 or chi_phot >= chi_ele):\n",
    "        return 0\n",
    "    yy = y(chi_ele, chi_phot)\n",
    "    return (inner(yy) + (3/2)*chi_phot*yy*spe.kv(2./3., yy))/chi_ele/np.sqrt(3)/np.pi   \n",
    "\n",
    "#KK_integ = np.vectorize(KK_integ)\n",
    "\n",
    "\n",
    "def KK_func(chi_ele):\n",
    "    return integ.quad(lambda s: KK_integ(chi_ele, s), 0.0, chi_ele/2, limit=800)[0] + integ.quad(lambda s: KK_integ(chi_ele, s), chi_ele/2, chi_ele, limit=800)[0]\n",
    "\n",
    "#KK_func = np.vectorize(KK_func)\n",
    "\n",
    "def rate(chi_ele, gamma_ele):\n",
    "    return qs_coeff*KK_func(chi_ele)/gamma_ele\n",
    "\n",
    "#rate = np.vectorize(rate)\n",
    "\n",
    "p = np.array([100,0,0])\n",
    "E = np.array([0,0,0])\n",
    "B = np.array([0,0,100])\n",
    "print(rate(calc_chi_elec(p,E,B), np.sqrt(1.0 + np.dot(p,p))))\n"
   ]
  },
  {
   "cell_type": "code",
   "execution_count": 22,
   "metadata": {},
   "outputs": [
    {
     "name": "stderr",
     "output_type": "stream",
     "text": [
      "/usr/lib/python3/dist-packages/ipykernel_launcher.py:24: IntegrationWarning: The integral is probably divergent, or slowly convergent.\n",
      "/usr/lib/python3/dist-packages/ipykernel_launcher.py:10: IntegrationWarning: The integral is probably divergent, or slowly convergent.\n",
      "  # Remove the CWD from sys.path while we load stuff.\n",
      "/usr/lib/python3/dist-packages/ipykernel_launcher.py:24: IntegrationWarning: The algorithm does not converge.  Roundoff error is detected\n",
      "  in the extrapolation table.  It is assumed that the requested tolerance\n",
      "  cannot be achieved, and that the returned result (if full_output = 1) is \n",
      "  the best which can be obtained.\n",
      "/usr/lib/python3/dist-packages/ipykernel_launcher.py:10: IntegrationWarning: The algorithm does not converge.  Roundoff error is detected\n",
      "  in the extrapolation table.  It is assumed that the requested tolerance\n",
      "  cannot be achieved, and that the returned result (if full_output = 1) is \n",
      "  the best which can be obtained.\n",
      "  # Remove the CWD from sys.path while we load stuff.\n",
      "/usr/lib/python3/dist-packages/ipykernel_launcher.py:24: IntegrationWarning: The maximum number of subdivisions (800) has been achieved.\n",
      "  If increasing the limit yields no improvement it is advised to analyze \n",
      "  the integrand in order to determine the difficulties.  If the position of a \n",
      "  local difficulty can be determined (singularity, discontinuity) one will \n",
      "  probably gain from splitting up the interval and calling the integrator \n",
      "  on the subranges.  Perhaps a special-purpose integrator should be used.\n"
     ]
    }
   ],
   "source": [
    "BBZfield = 1000\n",
    "momxlist = np.logspace(-2, 5.0, num=120)\n",
    "\n",
    "chilist = []\n",
    "ratelist = []\n",
    "\n",
    "for momx in momxlist:  \n",
    "    p = np.array([momx,0,0])\n",
    "    E = np.array([0,0,0])\n",
    "    B = np.array([0,0,BBZfield])\n",
    "    chilist.append(calc_chi_elec(p,E,B))\n",
    "    ratelist.append(rate(chilist[-1], np.sqrt(1.0 + np.dot(p,p))))\n",
    "    \n"
   ]
  },
  {
   "cell_type": "code",
   "execution_count": 9,
   "metadata": {},
   "outputs": [
    {
     "ename": "NameError",
     "evalue": "name 'chilist' is not defined",
     "output_type": "error",
     "traceback": [
      "\u001b[0;31m---------------------------------------------------------------------------\u001b[0m",
      "\u001b[0;31mNameError\u001b[0m                                 Traceback (most recent call last)",
      "\u001b[0;32m<ipython-input-9-d7d9ff2b2354>\u001b[0m in \u001b[0;36m<module>\u001b[0;34m()\u001b[0m\n\u001b[1;32m      3\u001b[0m \u001b[0mx\u001b[0m\u001b[0;34m,\u001b[0m \u001b[0my\u001b[0m \u001b[0;34m=\u001b[0m \u001b[0mnp\u001b[0m\u001b[0;34m.\u001b[0m\u001b[0mloadtxt\u001b[0m\u001b[0;34m(\u001b[0m\u001b[0;34m'qs_rate.dat'\u001b[0m\u001b[0;34m,\u001b[0m \u001b[0mdelimiter\u001b[0m\u001b[0;34m=\u001b[0m\u001b[0;34m' '\u001b[0m\u001b[0;34m,\u001b[0m \u001b[0munpack\u001b[0m\u001b[0;34m=\u001b[0m\u001b[0;32mTrue\u001b[0m\u001b[0;34m)\u001b[0m\u001b[0;34m\u001b[0m\u001b[0;34m\u001b[0m\u001b[0m\n\u001b[1;32m      4\u001b[0m \u001b[0mplt\u001b[0m\u001b[0;34m.\u001b[0m\u001b[0msemilogx\u001b[0m\u001b[0;34m(\u001b[0m\u001b[0mx\u001b[0m\u001b[0;34m,\u001b[0m \u001b[0my\u001b[0m\u001b[0;34m,\u001b[0m \u001b[0;34m'ro'\u001b[0m\u001b[0;34m,\u001b[0m \u001b[0mlabel\u001b[0m\u001b[0;34m=\u001b[0m\u001b[0;34m'From QS library'\u001b[0m\u001b[0;34m,\u001b[0m \u001b[0mmarkersize\u001b[0m\u001b[0;34m=\u001b[0m\u001b[0;36m4\u001b[0m\u001b[0;34m)\u001b[0m\u001b[0;34m\u001b[0m\u001b[0;34m\u001b[0m\u001b[0m\n\u001b[0;32m----> 5\u001b[0;31m \u001b[0mplt\u001b[0m\u001b[0;34m.\u001b[0m\u001b[0msemilogx\u001b[0m\u001b[0;34m(\u001b[0m\u001b[0mnp\u001b[0m\u001b[0;34m.\u001b[0m\u001b[0marray\u001b[0m\u001b[0;34m(\u001b[0m\u001b[0mchilist\u001b[0m\u001b[0;34m)\u001b[0m\u001b[0;34m,\u001b[0m \u001b[0mnp\u001b[0m\u001b[0;34m.\u001b[0m\u001b[0marray\u001b[0m\u001b[0;34m(\u001b[0m\u001b[0mratelist\u001b[0m\u001b[0;34m)\u001b[0m\u001b[0;34m*\u001b[0m\u001b[0;36m1e-15\u001b[0m\u001b[0;34m,\u001b[0m \u001b[0mlabel\u001b[0m\u001b[0;34m=\u001b[0m\u001b[0;34m'From QS theory'\u001b[0m\u001b[0;34m,\u001b[0m \u001b[0mmarkersize\u001b[0m\u001b[0;34m=\u001b[0m\u001b[0;36m2\u001b[0m\u001b[0;34m)\u001b[0m\u001b[0;34m\u001b[0m\u001b[0;34m\u001b[0m\u001b[0m\n\u001b[0m\u001b[1;32m      6\u001b[0m \u001b[0;34m\u001b[0m\u001b[0m\n\u001b[1;32m      7\u001b[0m \u001b[0mplt\u001b[0m\u001b[0;34m.\u001b[0m\u001b[0mxlabel\u001b[0m\u001b[0;34m(\u001b[0m\u001b[0;34m'$\\chi$'\u001b[0m\u001b[0;34m)\u001b[0m\u001b[0;34m\u001b[0m\u001b[0;34m\u001b[0m\u001b[0m\n",
      "\u001b[0;31mNameError\u001b[0m: name 'chilist' is not defined"
     ]
    }
   ],
   "source": [
    "import matplotlib.pyplot as plt\n",
    "\n",
    "x, y = np.loadtxt('qs_rate.dat', delimiter=' ', unpack=True)\n",
    "plt.semilogx(x, y, 'ro', label='From QS library', markersize=4)\n",
    "plt.semilogx(np.array(chilist), np.array(ratelist)*1e-15, label='From QS theory', markersize=2)\n",
    "\n",
    "plt.xlabel('$\\chi$')\n",
    "plt.ylabel('$dN_{QS}/dt$ (fs$^{-1}$)')\n",
    "plt.title('Photon production rate')\n",
    "plt.legend()\n",
    "plt.ylim(1e-3, 2e1)\n",
    "plt.xlim(1e-5,1e5)\n",
    "plt.show()"
   ]
  },
  {
   "cell_type": "code",
   "execution_count": 12,
   "metadata": {},
   "outputs": [
    {
     "name": "stderr",
     "output_type": "stream",
     "text": [
      "/usr/lib/python3/dist-packages/ipykernel_launcher.py:10: IntegrationWarning: The integral is probably divergent, or slowly convergent.\n",
      "  # Remove the CWD from sys.path while we load stuff.\n"
     ]
    },
    {
     "name": "stdout",
     "output_type": "stream",
     "text": [
      "0.00614224538171818\n"
     ]
    }
   ],
   "source": [
    "def cum_prob(chi_ele, chi_phot):\n",
    "    ff = lambda s : KK_integ(chi_ele, s)\n",
    "    num = integ.quad(ff, 0.0, chi_phot, limit=800)[0]\n",
    "    den = integ.quad(ff, 0.0, chi_ele, limit=800)[0]\n",
    "    return num/den\n",
    "\n",
    "ff = lambda s : KK_integ(chi_ele, s)\n",
    "print(cum_prob(0.1, 0.1*1e-6))\n"
   ]
  },
  {
   "cell_type": "code",
   "execution_count": 19,
   "metadata": {},
   "outputs": [
    {
     "name": "stdout",
     "output_type": "stream",
     "text": [
      "0.001 1e-09 -378.28459003713414\n",
      "0.001 1e-07 239933.30176252165\n",
      "0.001 1e-06 51430.517229581834\n",
      "0.001 1e-05 10818.875254434975\n",
      "0.001 0.0001 2071.1576998368205\n",
      "0.001 0.001 220.97664373665035\n",
      "0.001 0.01 0.11586593933804681\n",
      "0.001 0.1 1.84794209562732e-31\n",
      "0.001 0.5 3.9553099833296616e-289\n",
      "0.001 0.9 0.0\n",
      "0.001 0.99 0.0\n",
      "0.001 0.999 0.0\n",
      "\n",
      "0.01 1e-09 -37.2297363036051\n",
      "0.01 1e-07 111488.5596296252\n",
      "0.01 1e-06 23993.31576026238\n",
      "0.01 1e-05 5143.02066483418\n",
      "0.01 0.0001 1081.8206177034\n",
      "0.01 0.001 206.97193550277154\n",
      "0.01 0.01 21.82693639032425\n",
      "0.01 0.1 0.005651238787235672\n",
      "0.01 0.5 4.753017945915927e-29\n",
      "0.01 0.9 2.268551951683091e-260\n",
      "0.01 0.99 0.0\n",
      "0.01 0.999 0.0\n",
      "\n",
      "0.1 1e-09 -3.3333853029595355\n",
      "0.1 1e-07 -3.7828458962220375\n",
      "0.1 1e-06 11148.84927165279\n",
      "0.1 1e-05 2399.31716011971\n",
      "0.1 0.0001 514.2710101529348\n",
      "0.1 0.001 108.11519261492482\n",
      "0.1 0.01 20.55416605907147\n",
      "0.1 0.1 1.9245303609391278\n",
      "0.1 0.5 0.0018218841798441669\n",
      "0.1 0.9 2.3760791806172353e-26\n",
      "0.1 0.99 2.060472260116165e-286\n",
      "0.1 0.999 0.0\n",
      "\n",
      "1.0 1e-09 517638.4698555794\n",
      "1.0 1e-07 -0.37229736298195576\n",
      "1.0 1e-06 -0.37828458351450484\n",
      "1.0 1e-05 1114.8782358941912\n",
      "1.0 0.0001 239.91730093799117\n",
      "1.0 0.001 51.39606262543275\n",
      "1.0 0.01 10.74503711441692\n",
      "1.0 0.1 1.920678223127885\n",
      "1.0 0.5 0.30085261182574574\n",
      "1.0 0.9 0.002174633871030589\n",
      "1.0 0.99 6.102376161636218e-29\n",
      "1.0 0.999 5.129996620617219e-289\n",
      "\n",
      "10.0 1e-09 -0.033333013527337314\n",
      "10.0 1e-07 -0.03333385294729561\n",
      "10.0 1e-06 -0.03722973516911564\n",
      "10.0 1e-05 -0.0378284291779069\n",
      "10.0 0.0001 111.48113270476773\n",
      "10.0 0.001 23.97732334781365\n",
      "10.0 0.01 5.108747823281633\n",
      "10.0 0.1 1.0120166029693047\n",
      "10.0 0.5 0.2654852420415797\n",
      "10.0 0.9 0.1717705431703861\n",
      "10.0 0.99 0.0012253270082675787\n",
      "10.0 0.999 3.3635608763169773e-29\n",
      "\n",
      "100.0 1e-09 -0.003333340013419204\n",
      "100.0 1e-07 5176.384356914211\n",
      "100.0 1e-06 -0.003333384737232623\n",
      "100.0 1e-05 -0.0037229616838237163\n",
      "100.0 0.0001 -0.0037825831286338765\n",
      "100.0 0.001 11.141426251353023\n",
      "100.0 0.01 2.3834091215328597\n",
      "100.0 0.1 0.4818744514855814\n",
      "100.0 0.5 0.1360297028283348\n",
      "100.0 0.9 0.12424034937159859\n",
      "100.0 0.99 0.16016428716717757\n",
      "100.0 0.999 0.0011580687619748692\n",
      "\n",
      "1000.0 1e-09 -0.0003333341150337592\n",
      "1000.0 1e-07 -0.00033333011955808295\n",
      "1000.0 1e-06 517.6381251083448\n",
      "1000.0 1e-05 -0.0003333329548523472\n",
      "1000.0 0.0001 -0.0003721772925484275\n",
      "1000.0 0.001 -0.00037569159150720334\n",
      "1000.0 0.01 1.1074943786268197\n",
      "1000.0 0.1 0.224880240601137\n",
      "1000.0 0.5 0.06437063867191319\n",
      "1000.0 0.9 0.06002247759561616\n",
      "1000.0 0.99 0.1172833563025272\n",
      "1000.0 0.999 0.15924695666292607\n",
      "\n"
     ]
    },
    {
     "name": "stderr",
     "output_type": "stream",
     "text": [
      "/usr/lib/python3/dist-packages/ipykernel_launcher.py:10: IntegrationWarning: The integral is probably divergent, or slowly convergent.\n",
      "  # Remove the CWD from sys.path while we load stuff.\n"
     ]
    }
   ],
   "source": [
    "\n",
    "\n",
    "def KK(chi_ele):\n",
    "    return integ.quad(lambda s: KK_integ(chi_ele, s), 0.001, chi_ele, limit=400)[0] \n",
    "\n",
    "KK = np.vectorize(KK)\n",
    "\n",
    "frac = [1e-9, 1e-7, 1e-6,1e-5,1e-4,1e-3,1e-2,1e-1, 0.5, 0.9, 0.99, 0.999]\n",
    "chi = [0.001, 0.01, 0.1, 1.0, 10.0, 100.0, 1000.0]\n",
    "       \n",
    "for cchi in chi :\n",
    "    for ffrac in frac :\n",
    "        print(str(cchi) + \" \" + str(ffrac) + \" \" + str(KK_integ(cchi, cchi*ffrac)))\n",
    "    print(\"\")"
   ]
  },
  {
   "cell_type": "code",
   "execution_count": 143,
   "metadata": {},
   "outputs": [
    {
     "data": {
      "image/png": "[encoded data removed]",
      "text/plain": [
       "<Figure size 432x288 with 1 Axes>"
      ]
     },
     "metadata": {
      "needs_background": "light"
     },
     "output_type": "display_data"
    }
   ],
   "source": [
    "g_phot = np.loadtxt('qs_photen_px10_bz80.dat', delimiter=' ', unpack=True)\n",
    "counts, bins, bars = plt.hist(g_phot, bins='auto', log=True)\n"
   ]
  },
  {
   "cell_type": "code",
   "execution_count": 171,
   "metadata": {},
   "outputs": [
    {
     "data": {
      "text/plain": [
       "(0.1, 10.0)"
      ]
     },
     "execution_count": 171,
     "metadata": {},
     "output_type": "execute_result"
    },
    {
     "data": {
      "image/png": "[encoded data removed]",
      "text/plain": [
       "<Figure size 432x288 with 1 Axes>"
      ]
     },
     "metadata": {
      "needs_background": "light"
     },
     "output_type": "display_data"
    }
   ],
   "source": [
    "bbina = bins[1:]\n",
    "bbinb = bins[:-1]\n",
    "bbin = (bbina + bbinb)/2\n",
    "plt.loglog(bbin, counts*bbin)\n",
    "\n",
    "gg = np.logspace(-6, 1e-3, num=100)\n",
    "\n",
    "def S (x):\n",
    "    a = 1.0/(0.0092*0.0194 * 10.1)\n",
    "    b = 2.e0\n",
    "    return b*a*x*integ.quad(lambda s: spe.kv(5./3., s), a*x, np.inf, limit=800)[0]\n",
    "\n",
    "S = np.vectorize(S)\n",
    "\n",
    "plt.loglog(gg, S(gg))\n",
    "\n",
    "plt.xlim(1e-9,1e3)\n",
    "plt.ylim(1e-1,1e1)"
   ]
  },
  {
   "cell_type": "code",
   "execution_count": 164,
   "metadata": {},
   "outputs": [
    {
     "ename": "NameError",
     "evalue": "name 'KK' is not defined",
     "output_type": "error",
     "traceback": [
      "\u001b[0;31m---------------------------------------------------------------------------\u001b[0m",
      "\u001b[0;31mNameError\u001b[0m                                 Traceback (most recent call last)",
      "\u001b[0;32m<ipython-input-164-654eb4f76696>\u001b[0m in \u001b[0;36m<module>\u001b[0;34m()\u001b[0m\n\u001b[1;32m      5\u001b[0m \u001b[0;34m\u001b[0m\u001b[0m\n\u001b[1;32m      6\u001b[0m \u001b[0mtcoeff\u001b[0m \u001b[0;34m=\u001b[0m \u001b[0mfine_structure_constant\u001b[0m\u001b[0;34m*\u001b[0m\u001b[0mfine_structure_constant\u001b[0m\u001b[0;34m/\u001b[0m\u001b[0mtau_e\u001b[0m\u001b[0;34m\u001b[0m\u001b[0;34m\u001b[0m\u001b[0m\n\u001b[0;32m----> 7\u001b[0;31m \u001b[0mth_rates\u001b[0m \u001b[0;34m=\u001b[0m \u001b[0mtcoeff\u001b[0m\u001b[0;34m*\u001b[0m\u001b[0mKK\u001b[0m\u001b[0;34m(\u001b[0m\u001b[0mnp\u001b[0m\u001b[0;34m.\u001b[0m\u001b[0marray\u001b[0m\u001b[0;34m(\u001b[0m\u001b[0mchis\u001b[0m\u001b[0;34m)\u001b[0m\u001b[0;34m)\u001b[0m\u001b[0;34m\u001b[0m\u001b[0;34m\u001b[0m\u001b[0m\n\u001b[0m",
      "\u001b[0;31mNameError\u001b[0m: name 'KK' is not defined"
     ]
    }
   ],
   "source": [
    "momx = np.logspace(-3, 5.0, num=200)\n",
    "chis = []\n",
    "for mm in momx:\n",
    "    chis.append(calc_chi_elec(np.array([mm,0,0]),np.array([0, 0, 0]), np.array([0, 0, 500])))\n",
    "\n",
    "tcoeff = fine_structure_constant*fine_structure_constant/tau_e\n",
    "th_rates = tcoeff*KK(np.array(chis))"
   ]
  },
  {
   "cell_type": "code",
   "execution_count": 12,
   "metadata": {},
   "outputs": [
    {
     "ename": "NameError",
     "evalue": "name 'th_rates' is not defined",
     "output_type": "error",
     "traceback": [
      "\u001b[0;31m---------------------------------------------------------------------------\u001b[0m",
      "\u001b[0;31mNameError\u001b[0m                                 Traceback (most recent call last)",
      "\u001b[0;32m<ipython-input-12-af99cb786183>\u001b[0m in \u001b[0;36m<module>\u001b[0;34m()\u001b[0m\n\u001b[1;32m      4\u001b[0m \u001b[0mx\u001b[0m\u001b[0;34m,\u001b[0m \u001b[0my\u001b[0m \u001b[0;34m=\u001b[0m \u001b[0mnp\u001b[0m\u001b[0;34m.\u001b[0m\u001b[0mloadtxt\u001b[0m\u001b[0;34m(\u001b[0m\u001b[0;34m'qs_rate.dat'\u001b[0m\u001b[0;34m,\u001b[0m \u001b[0mdelimiter\u001b[0m\u001b[0;34m=\u001b[0m\u001b[0;34m' '\u001b[0m\u001b[0;34m,\u001b[0m \u001b[0munpack\u001b[0m\u001b[0;34m=\u001b[0m\u001b[0;32mTrue\u001b[0m\u001b[0;34m)\u001b[0m\u001b[0;34m\u001b[0m\u001b[0;34m\u001b[0m\u001b[0m\n\u001b[1;32m      5\u001b[0m \u001b[0mplt\u001b[0m\u001b[0;34m.\u001b[0m\u001b[0mloglog\u001b[0m\u001b[0;34m(\u001b[0m\u001b[0mx\u001b[0m\u001b[0;34m,\u001b[0m \u001b[0my\u001b[0m\u001b[0;34m,\u001b[0m \u001b[0;34m'ro'\u001b[0m\u001b[0;34m,\u001b[0m \u001b[0mlabel\u001b[0m\u001b[0;34m=\u001b[0m\u001b[0;34m'From QS library'\u001b[0m\u001b[0;34m,\u001b[0m \u001b[0mmarkersize\u001b[0m\u001b[0;34m=\u001b[0m\u001b[0;36m4\u001b[0m\u001b[0;34m)\u001b[0m\u001b[0;34m\u001b[0m\u001b[0;34m\u001b[0m\u001b[0m\n\u001b[0;32m----> 6\u001b[0;31m \u001b[0mplt\u001b[0m\u001b[0;34m.\u001b[0m\u001b[0mloglog\u001b[0m\u001b[0;34m(\u001b[0m\u001b[0mchis\u001b[0m\u001b[0;34m,\u001b[0m \u001b[0mth_rates\u001b[0m\u001b[0;34m*\u001b[0m\u001b[0;36m1e-15\u001b[0m\u001b[0;34m,\u001b[0m \u001b[0mlabel\u001b[0m\u001b[0;34m=\u001b[0m\u001b[0;34m'From QS theory'\u001b[0m\u001b[0;34m)\u001b[0m\u001b[0;34m\u001b[0m\u001b[0;34m\u001b[0m\u001b[0m\n\u001b[0m\u001b[1;32m      7\u001b[0m \u001b[0;34m\u001b[0m\u001b[0m\n\u001b[1;32m      8\u001b[0m \u001b[0mplt\u001b[0m\u001b[0;34m.\u001b[0m\u001b[0mxlabel\u001b[0m\u001b[0;34m(\u001b[0m\u001b[0;34m'$\\chi_{\\gamma}$'\u001b[0m\u001b[0;34m)\u001b[0m\u001b[0;34m\u001b[0m\u001b[0;34m\u001b[0m\u001b[0m\n",
      "\u001b[0;31mNameError\u001b[0m: name 'th_rates' is not defined"
     ]
    },
    {
     "data": {
      "image/png": "[encoded data removed]",
      "text/plain": [
       "<Figure size 432x288 with 1 Axes>"
      ]
     },
     "metadata": {
      "needs_background": "light"
     },
     "output_type": "display_data"
    }
   ],
   "source": [
    "import matplotlib.pyplot as plt\n",
    "import numpy as np\n",
    "\n",
    "x, y = np.loadtxt('qs_rate.dat', delimiter=' ', unpack=True)\n",
    "plt.loglog(x, y, 'ro', label='From QS library', markersize=4)\n",
    "plt.loglog(chis, th_rates*1e-15, label='From QS theory')\n",
    "\n",
    "plt.xlabel('$\\chi_{\\gamma}$')\n",
    "plt.ylabel('$dN_{QS}/dt$ (fs$^{-1}$)')\n",
    "plt.title('Photon production rate')\n",
    "plt.legend()\n",
    "#plt.ylim(1e-5, 1)\n",
    "#plt.xlim(1e-2,1e3)\n",
    "plt.show()"
   ]
  },
  {
   "cell_type": "code",
   "execution_count": 52,
   "metadata": {},
   "outputs": [
    {
     "data": {
      "image/png": "[encoded data removed]",
      "text/plain": [
       "<Figure size 432x288 with 1 Axes>"
      ]
     },
     "metadata": {
      "needs_background": "light"
     },
     "output_type": "display_data"
    }
   ],
   "source": [
    "plt.plot(x, y, 'ro', label='From QS library', markersize=4)\n",
    "plt.plot(chis, th_rates*1e-15, label='From QS theory')\n",
    "\n",
    "plt.xlabel('$\\chi_{\\gamma}$')\n",
    "plt.ylabel('$dN_{QS}/dt$ (fs$^{-1}$)')\n",
    "plt.title('Photon production rate')\n",
    "plt.legend()\n",
    "#plt.ylim(1e-5, 1)\n",
    "#plt.xlim(1e-2,1e3)\n",
    "plt.show()"
   ]
  },
  {
   "cell_type": "code",
   "execution_count": null,
   "metadata": {},
   "outputs": [],
   "source": [
    "print(tau_e)"
   ]
  },
  {
   "cell_type": "code",
   "execution_count": null,
   "metadata": {},
   "outputs": [],
   "source": []
  }
 ],
 "metadata": {
  "kernelspec": {
   "display_name": "Python 3",
   "language": "python",
   "name": "python3"
  },
  "language_info": {
   "codemirror_mode": {
    "name": "ipython",
    "version": 3
   },
   "file_extension": ".py",
   "mimetype": "text/x-python",
   "name": "python",
   "nbconvert_exporter": "python",
   "pygments_lexer": "ipython3",
   "version": "3.7.3"
  }
 },
 "nbformat": 4,
 "nbformat_minor": 2
}
