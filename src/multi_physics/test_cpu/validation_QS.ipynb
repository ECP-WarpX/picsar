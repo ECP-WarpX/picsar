{
 "cells": [
  {
   "cell_type": "markdown",
   "metadata": {},
   "source": [
    "# QS engine validation"
   ]
  },
  {
   "cell_type": "code",
   "execution_count": 1,
   "metadata": {},
   "outputs": [],
   "source": [
    "import math as m\n",
    "import numpy as np\n",
    "\n",
    "electron_mass = 9.10938356e-31\n",
    "elementary_charge = 1.6021766208e-19\n",
    "speed_of_light = 299792458\n",
    "reduced_plank = 1.054571800e-34\n",
    "vacuum_permittivity =  8.854187817e-12\n",
    "fine_structure_constant =  0.0072973525664\n",
    "\n",
    "classical_elec_radius = (1./4./np.pi/vacuum_permittivity)*( elementary_charge**2 / (electron_mass * speed_of_light**2))\n",
    "\n",
    "tau_e = classical_elec_radius/speed_of_light\n",
    "\n",
    "lambda_laser = 1.0e-6\n",
    "\n",
    "schwinger_field_SI = electron_mass**2 * speed_of_light**3 / (reduced_plank*elementary_charge)\n",
    "\n",
    "schwinger_field_code_units = electron_mass*speed_of_light*lambda_laser/(2.0*reduced_plank*m.pi)\n",
    "\n",
    "conversion_of_rate_from_code_to_SI = (2.0 * m.pi * speed_of_light)/lambda_laser\n",
    "\n",
    "conversion_of_rate_from_SI_to_code = 1.0/conversion_of_rate_from_code_to_SI\n",
    "\n",
    "field_reference_PIC = 2.0 * np.pi * electron_mass * speed_of_light * speed_of_light / (elementary_charge*lambda_laser)\n"
   ]
  },
  {
   "cell_type": "code",
   "execution_count": 49,
   "metadata": {},
   "outputs": [
    {
     "name": "stdout",
     "output_type": "stream",
     "text": [
      "0.11586593933804681\n",
      "1.8479420956273204e-31\n",
      "0.0\n",
      "\n",
      "21.82693639032425\n",
      "0.005651238787235672\n",
      "2.2685519516830914e-260\n",
      "\n",
      "20.55416605907147\n",
      "1.9245303609391278\n",
      "2.376079180617236e-26\n",
      "\n",
      "10.74503711441692\n",
      "1.920678223127885\n",
      "0.0021746338710305893\n",
      "\n",
      "5.108747823281634\n",
      "1.0120166029693047\n",
      "0.1717705431703861\n",
      "\n",
      "2.3834091215328597\n",
      "0.4818744514855814\n",
      "0.1242403493715986\n",
      "\n",
      "1.1074943786268194\n",
      "0.22488024060113704\n",
      "0.060022477595616165\n",
      "\n"
     ]
    },
    {
     "data": {
      "image/png": "[encoded data removed]",
      "text/plain": [
       "<Figure size 432x288 with 1 Axes>"
      ]
     },
     "metadata": {
      "needs_background": "light"
     },
     "output_type": "display_data"
    }
   ],
   "source": [
    "import scipy.special as spe\n",
    "import scipy.integrate as integ\n",
    "\n",
    "\n",
    "def inner(x):\n",
    "    return integ.quad(lambda s: spe.kv(5./3., s), x, np.inf)[0] \n",
    "\n",
    "def y(chi_ele, chi_phot):\n",
    "    return 2*chi_phot/3/chi_ele/(chi_ele-chi_phot)\n",
    "\n",
    "def KK_integ(chi_ele, chi_phot):\n",
    "    if(chi_ele == 0 or chi_phot == 0 or chi_phot >= chi_ele):\n",
    "        return 0\n",
    "    yy = y(chi_ele, chi_phot)\n",
    "    ccoef = 1.0/np.sqrt(3)/np.pi   \n",
    "    return ccoef*(inner(yy) + (3/2)*chi_phot*yy*spe.kv(2./3., yy))/chi_ele\n",
    "\n",
    "KK_integ = np.vectorize(KK_integ)\n",
    "\n",
    "def KK(chi_ele):\n",
    "    return integ.quad(lambda s: KK_integ(chi_ele, s), 0.00001, chi_ele)[0] \n",
    "\n",
    "frac = [0.01,0.1,0.9]\n",
    "chi = [0.001, 0.01, 0.1, 1.0, 10.0, 100.0, 1000.0]\n",
    "       \n",
    "for cchi in chi :\n",
    "    for ffrac in frac :\n",
    "        print(KK_integ(cchi, cchi*ffrac))\n",
    "    print(\"\")\n",
    "    \n",
    "frac = np.logspace(-5, 1.0, num=1000, base=10)\n",
    "res = KK_integ(0.09, frac*0.09)\n",
    "\n",
    "\n",
    "import matplotlib.pyplot as plt\n",
    "plt.semilogx(frac*0.09, res, 'ro', label='From BW library', markersize=4)\n",
    "plt.show()"
   ]
  },
  {
   "cell_type": "code",
   "execution_count": null,
   "metadata": {},
   "outputs": [],
   "source": []
  },
  {
   "cell_type": "code",
   "execution_count": null,
   "metadata": {},
   "outputs": [],
   "source": []
  }
 ],
 "metadata": {
  "kernelspec": {
   "display_name": "Python 3",
   "language": "python",
   "name": "python3"
  },
  "language_info": {
   "codemirror_mode": {
    "name": "ipython",
    "version": 3
   },
   "file_extension": ".py",
   "mimetype": "text/x-python",
   "name": "python",
   "nbconvert_exporter": "python",
   "pygments_lexer": "ipython3",
   "version": "3.7.3"
  }
 },
 "nbformat": 4,
 "nbformat_minor": 2
}
